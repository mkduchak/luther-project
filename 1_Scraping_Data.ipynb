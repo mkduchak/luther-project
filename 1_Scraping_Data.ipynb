{
 "cells": [
  {
   "cell_type": "code",
   "execution_count": 1,
   "metadata": {
    "collapsed": true
   },
   "outputs": [],
   "source": [
    "import pandas as pd\n",
    "import numpy as np\n",
    "import requests\n",
    "from bs4 import BeautifulSoup\n",
    "from selenium import webdriver\n",
    "from selenium.webdriver.common.keys import Keys\n",
    "import time\n",
    "import os"
   ]
  },
  {
   "cell_type": "markdown",
   "metadata": {},
   "source": [
    "# Part 1 - Data Scraping"
   ]
  },
  {
   "cell_type": "markdown",
   "metadata": {},
   "source": [
    "First we must pull the data from baskeball-reference.com"
   ]
  },
  {
   "cell_type": "code",
   "execution_count": 2,
   "metadata": {
    "collapsed": true
   },
   "outputs": [],
   "source": [
    "url = 'https://www.basketball-reference.com/players/r/rosede01.html'"
   ]
  },
  {
   "cell_type": "code",
   "execution_count": 14,
   "metadata": {
    "collapsed": true
   },
   "outputs": [],
   "source": [
    "response = requests.get(url)\n",
    "page = response.text\n",
    "soup = BeautifulSoup(page, \"lxml\")"
   ]
  },
  {
   "cell_type": "markdown",
   "metadata": {},
   "source": [
    "First pull the player data (name, weight, hight, draft postion, scout rank)"
   ]
  },
  {
   "cell_type": "code",
   "execution_count": 49,
   "metadata": {},
   "outputs": [],
   "source": [
    "playerinfo = soup.find(id='info')"
   ]
  },
  {
   "cell_type": "code",
   "execution_count": 50,
   "metadata": {},
   "outputs": [
    {
     "data": {
      "text/plain": [
       "<div class=\"players\" id=\"info\">\n",
       "<div id=\"meta\">\n",
       "<div class=\"media-item\"><img alt=\"Photo of Derrick Rose\" itemscope=\"image\" src=\"https://d2cwpp38twqe55.cloudfront.net/req/201801101/images/players/rosede01.jpg\"/>\n",
       "</div><!-- div.media-item --><div itemscope=\"\" itemtype=\"https://schema.org/Person\">\n",
       "<h1 itemprop=\"name\">Derrick Rose</h1>\n",
       "<!-- all other pages -->\n",
       "<p>\n",
       "<strong>\n",
       "<strong>Derrick Martell Rose</strong>\n",
       "</strong>\n",
       "    \n",
       "  ▪\n",
       "  <a href=\"/friv/twitter.html\">Twitter</a>:\n",
       "  <a href=\"https://twitter.com/drose\">drose</a>\n",
       "</p>\n",
       "<p>\n",
       "(D-Rose)\n",
       "</p>\n",
       "<p>\n",
       "<strong>\n",
       "  Position:\n",
       "  </strong>\n",
       "  Point Guard\n",
       "\n",
       "\n",
       "  \n",
       "  ▪\n",
       "  \n",
       "  <strong>\n",
       "  Shoots:\n",
       "  </strong>\n",
       "  Right\n",
       "</p>\n",
       "<p><span itemprop=\"height\">6-3</span>, <span itemprop=\"weight\">190lb</span> (190cm, 86kg) </p>\n",
       "<p><strong>Team</strong>: <a href=\"/teams/CLE/2018.html\">Cleveland Cavaliers</a></p>\n",
       "<p>\n",
       "<strong>Born:</strong>\n",
       "<span data-birth=\"1988-10-04\" id=\"necro-birth\" itemprop=\"birthDate\">\n",
       "<a href=\"/friv/birthdays.fcgi?month=10&amp;day=4\">October 4</a>,\n",
       "            <a href=\"/friv/birthyears.fcgi?year=1988\">1988</a>\n",
       "</span>\n",
       "<span itemprop=\"birthPlace\">\n",
       "    in Chicago, <a href=\"/friv/birthplaces.cgi?country=US&amp;state=IL\">Illinois</a></span>\n",
       "<span class=\"f-i f-us\">us</span>\n",
       "</p>\n",
       "<p>\n",
       "<strong>\n",
       "  College:\n",
       "  </strong>\n",
       "<a href=\"/friv/colleges.cgi?college=memphis\">University of Memphis</a>\n",
       "</p>\n",
       "<p>\n",
       "<strong>\n",
       "  High School:\n",
       "  </strong>\n",
       "  Simeon Career Academy\n",
       "  in\n",
       "  Chicago,\n",
       "    \n",
       "    <a href=\"/friv/high_schools.cgi?country=US&amp;state=IL\">Illinois</a>\n",
       "</p>\n",
       "<p>\n",
       "<strong>\n",
       "  Recruiting Rank:\n",
       "  </strong>\n",
       "<a href=\"/awards/recruit_rankings_2007.html\">2007</a> (5)\n",
       "</p>\n",
       "<p>\n",
       "<strong>\n",
       "  Draft:\n",
       "  </strong>\n",
       "<a href=\"/teams/CHI/draft.html\">Chicago Bulls</a>, 1st round (1st pick, 1st overall), <a href=\"/draft/NBA_2008.html\">2008 NBA Draft</a>\n",
       "</p>\n",
       "<p>\n",
       "<strong>NBA Debut: </strong><a href=\"/boxscores/200810280CHI.html\">October 28, 2008</a>\n",
       "</p>\n",
       "<p>\n",
       "<strong>\n",
       "  Experience:\n",
       "  </strong>\n",
       "  8 years\n",
       "</p>\n",
       "<button class=\"opener\" data-class=\"open\" data-id=\"info\" data-type=\"hide_after\" id=\"meta_more_button\">More bio, uniform, draft, salary info</button>\n",
       "</div>\n",
       "</div><!-- div#meta -->\n",
       "<ul id=\"bling\">\n",
       "<li class=\"bling_special bling_all_star\"><a>3x All Star</a></li> <li class=\"\"><a>2010-11 All-NBA</a></li> <li class=\"\"><a>2008-09 All-Rookie</a></li> <li class=\"\"><a>2010-11 MVP</a></li> <li class=\"\"><a>2008-09 ROY</a></li>\n",
       "</ul>\n",
       "<div class=\"uni_holder bbr\">\n",
       "<a class=\"poptip\" data-tip=\"Chicago Bulls, 2009-2016\" href=\"/friv/numbers.cgi?number=1\">\n",
       "<svg class=\"jersey\" viewbox=\"0,0,42,52\"> <rect fill=\"#ff0000\" height=\"52\" width=\"42\" x=\"0\" y=\"0\"></rect> <ellipse cx=\"0\" cy=\"5\" fill=\"white\" rx=\"7\" ry=\"18\" stroke=\"#000000\" stroke-width=\"2\"></ellipse> <ellipse cx=\"42\" cy=\"5\" fill=\"white\" rx=\"7\" ry=\"18\" stroke=\"#000000\" stroke-width=\"2\"></ellipse> <ellipse cx=\"21\" cy=\"0\" fill=\"white\" rx=\"7\" ry=\"7\" stroke=\"#000000\" stroke-width=\"2\"></ellipse> <text fill=\"#ffffff\" x=\"15\" y=\"39\">1</text> </svg>\n",
       "</a>\n",
       "<a class=\"poptip\" data-tip=\"New York Knicks, 2017\" href=\"/friv/numbers.cgi?number=25\">\n",
       "<svg class=\"jersey\" viewbox=\"0,0,42,52\"> <rect fill=\"#0000ff\" height=\"52\" width=\"42\" x=\"0\" y=\"0\"></rect> <ellipse cx=\"0\" cy=\"5\" fill=\"white\" rx=\"7\" ry=\"18\" stroke=\"#ff4500\" stroke-width=\"2\"></ellipse> <ellipse cx=\"42\" cy=\"5\" fill=\"white\" rx=\"7\" ry=\"18\" stroke=\"#ff4500\" stroke-width=\"2\"></ellipse> <ellipse cx=\"21\" cy=\"0\" fill=\"white\" rx=\"7\" ry=\"7\" stroke=\"#ff4500\" stroke-width=\"2\"></ellipse> <text fill=\"#ffffff\" x=\"9\" y=\"39\">25</text> </svg>\n",
       "</a>\n",
       "<a class=\"poptip default\" data-tip=\"Cleveland Cavaliers, 2018\" href=\"/friv/numbers.cgi?number=1\">\n",
       "<svg class=\"jersey\" viewbox=\"0,0,42,52\"> <rect fill=\"#8b0000\" height=\"52\" width=\"42\" x=\"0\" y=\"0\"></rect> <ellipse cx=\"0\" cy=\"5\" fill=\"white\" rx=\"7\" ry=\"18\" stroke=\"#ffd700\" stroke-width=\"2\"></ellipse> <ellipse cx=\"42\" cy=\"5\" fill=\"white\" rx=\"7\" ry=\"18\" stroke=\"#ffd700\" stroke-width=\"2\"></ellipse> <ellipse cx=\"21\" cy=\"0\" fill=\"white\" rx=\"7\" ry=\"7\" stroke=\"#ffd700\" stroke-width=\"2\"></ellipse> <text fill=\"#ffffff\" x=\"15\" y=\"39\">1</text> </svg>\n",
       "</a>\n",
       "<div class=\"counter opener\" data-class=\"open\" data-control-id=\"meta_more_button\" data-id=\"info\" data-type=\"hide_after\">+2</div>\n",
       "</div>\n",
       "<div class=\"adblock ad300\">\n",
       "<div><a href=\"/my/?do=ad_free_browsing\">Support us without the ads? Go Ad-Free.</a></div>\n",
       "<!-- div#fs_fs_300_atf  -->\n",
       "<div align=\"center\" id=\"div-gpt-ad-300x250-ATF\">\n",
       "<script data-cfasync=\"false\" type=\"text/javascript\">\n",
       "    if (sr_detect_ie || sr_detect_edge || Modernizr.adfree) {\n",
       "    }\n",
       "    else {\n",
       "        console.log('push ad:div-gpt-ad-300x250-ATF');\n",
       "        freestar.queue.push(function() { googletag.display('div-gpt-ad-300x250-ATF'); });\n",
       "    }\n",
       "    </script>\n",
       "</div>\n",
       "<!-- /div.#fs_fs_300_atf -->\n",
       "</div>\n",
       "<div class=\"stats_pullout\">\n",
       "<div><div>\n",
       "<h4>SUMMARY</h4>\n",
       "<p><strong>2017-18</strong></p>\n",
       "<p><strong>Career</strong></p>\n",
       "</div></div>\n",
       "<div class=\"p1\">\n",
       "<div>\n",
       "<h4 class=\"poptip\" data-tip=\"Games\">G</h4><p>10</p>\n",
       "<p>480</p></div>\n",
       "<div>\n",
       "<h4 class=\"poptip\" data-tip=\"Points\">PTS</h4><p>12.7</p>\n",
       "<p>19.3</p></div>\n",
       "<div>\n",
       "<h4 class=\"poptip\" data-tip=\"Total Rebounds\">TRB</h4><p>2.3</p>\n",
       "<p>3.7</p></div>\n",
       "<div>\n",
       "<h4 class=\"poptip\" data-tip=\"Assists\">AST</h4><p>1.7</p>\n",
       "<p>5.9</p></div>\n",
       "</div><div class=\"p2\">\n",
       "<div>\n",
       "<h4 class=\"poptip\" data-tip=\"Field Goal Percentage\">FG%</h4><p>48.5</p>\n",
       "<p>45.1</p></div>\n",
       "<div>\n",
       "<h4 class=\"poptip\" data-tip=\"3-Point Field Goal Percentage\">FG3%</h4><p>20.0</p>\n",
       "<p>29.7</p></div>\n",
       "<div>\n",
       "<h4 class=\"poptip\" data-tip=\"Free Throw Percentage\">FT%</h4><p>90.3</p>\n",
       "<p>82.2</p></div>\n",
       "<div>\n",
       "<h4 class=\"poptip\" data-tip=\"&lt;strong&gt;Effective Field Goal Percentage&lt;/strong&gt;&lt;br&gt;This statistic adjusts for the fact that a 3-point field goal is worth one more point than a 2-point field goal.\">eFG%</h4><p>50.0</p>\n",
       "<p>47.4</p></div>\n",
       "</div><div class=\"p3\">\n",
       "<div>\n",
       "<h4 class=\"poptip\" data-tip=\"&lt;b&gt;Player Efficiency Rating&lt;/b&gt;&lt;br&gt;A measure of per-minute production standardized such that the league average is 15.\">PER</h4><p>12.5</p>\n",
       "<p>18.0</p></div>\n",
       "<div>\n",
       "<h4 class=\"poptip\" data-tip=\"&lt;b&gt;Win Shares&lt;/b&gt;&lt;br&gt;An estimate of the number of wins contributed by a player.\">WS</h4><p>-0.1</p>\n",
       "<p>34.3</p></div>\n",
       "</div></div>\n",
       "</div>"
      ]
     },
     "execution_count": 50,
     "metadata": {},
     "output_type": "execute_result"
    }
   ],
   "source": [
    "playerinfo"
   ]
  },
  {
   "cell_type": "code",
   "execution_count": 51,
   "metadata": {},
   "outputs": [
    {
     "data": {
      "text/plain": [
       "'Derrick Rose'"
      ]
     },
     "execution_count": 51,
     "metadata": {},
     "output_type": "execute_result"
    }
   ],
   "source": [
    "name = playerinfo.find(itemprop=\"name\").text\n",
    "name"
   ]
  },
  {
   "cell_type": "code",
   "execution_count": 63,
   "metadata": {},
   "outputs": [],
   "source": [
    "height = playerinfo.find(itemprop='height').text\n",
    "weight = playerinfo.find(itemprop='weight').text"
   ]
  },
  {
   "cell_type": "code",
   "execution_count": 70,
   "metadata": {},
   "outputs": [
    {
     "data": {
      "text/plain": [
       "[<p>\n",
       " <strong>\n",
       " <strong>Derrick Martell Rose</strong>\n",
       " </strong>\n",
       "     \n",
       "   ▪\n",
       "   <a href=\"/friv/twitter.html\">Twitter</a>:\n",
       "   <a href=\"https://twitter.com/drose\">drose</a>\n",
       " </p>, <p>\n",
       " (D-Rose)\n",
       " </p>, <p>\n",
       " <strong>\n",
       "   Position:\n",
       "   </strong>\n",
       "   Point Guard\n",
       " \n",
       " \n",
       "   \n",
       "   ▪\n",
       "   \n",
       "   <strong>\n",
       "   Shoots:\n",
       "   </strong>\n",
       "   Right\n",
       " </p>, <p><span itemprop=\"height\">6-3</span>, <span itemprop=\"weight\">190lb</span> (190cm, 86kg) </p>, <p><strong>Team</strong>: <a href=\"/teams/CLE/2018.html\">Cleveland Cavaliers</a></p>, <p>\n",
       " <strong>Born:</strong>\n",
       " <span data-birth=\"1988-10-04\" id=\"necro-birth\" itemprop=\"birthDate\">\n",
       " <a href=\"/friv/birthdays.fcgi?month=10&amp;day=4\">October 4</a>,\n",
       "             <a href=\"/friv/birthyears.fcgi?year=1988\">1988</a>\n",
       " </span>\n",
       " <span itemprop=\"birthPlace\">\n",
       "     in Chicago, <a href=\"/friv/birthplaces.cgi?country=US&amp;state=IL\">Illinois</a></span>\n",
       " <span class=\"f-i f-us\">us</span>\n",
       " </p>, <p>\n",
       " <strong>\n",
       "   College:\n",
       "   </strong>\n",
       " <a href=\"/friv/colleges.cgi?college=memphis\">University of Memphis</a>\n",
       " </p>, <p>\n",
       " <strong>\n",
       "   High School:\n",
       "   </strong>\n",
       "   Simeon Career Academy\n",
       "   in\n",
       "   Chicago,\n",
       "     \n",
       "     <a href=\"/friv/high_schools.cgi?country=US&amp;state=IL\">Illinois</a>\n",
       " </p>, <p>\n",
       " <strong>\n",
       "   Recruiting Rank:\n",
       "   </strong>\n",
       " <a href=\"/awards/recruit_rankings_2007.html\">2007</a> (5)\n",
       " </p>, <p>\n",
       " <strong>\n",
       "   Draft:\n",
       "   </strong>\n",
       " <a href=\"/teams/CHI/draft.html\">Chicago Bulls</a>, 1st round (1st pick, 1st overall), <a href=\"/draft/NBA_2008.html\">2008 NBA Draft</a>\n",
       " </p>, <p>\n",
       " <strong>NBA Debut: </strong><a href=\"/boxscores/200810280CHI.html\">October 28, 2008</a>\n",
       " </p>, <p>\n",
       " <strong>\n",
       "   Experience:\n",
       "   </strong>\n",
       "   8 years\n",
       " </p>, <p><strong>2017-18</strong></p>, <p><strong>Career</strong></p>, <p>10</p>, <p>480</p>, <p>12.7</p>, <p>19.3</p>, <p>2.3</p>, <p>3.7</p>, <p>1.7</p>, <p>5.9</p>, <p>48.5</p>, <p>45.1</p>, <p>20.0</p>, <p>29.7</p>, <p>90.3</p>, <p>82.2</p>, <p>50.0</p>, <p>47.4</p>, <p>12.5</p>, <p>18.0</p>, <p>-0.1</p>, <p>34.3</p>]"
      ]
     },
     "execution_count": 70,
     "metadata": {},
     "output_type": "execute_result"
    }
   ],
   "source": [
    "otherinfo = playerinfo.find_all('p')\n",
    "otherinfo"
   ]
  },
  {
   "cell_type": "code",
   "execution_count": null,
   "metadata": {
    "collapsed": true
   },
   "outputs": [],
   "source": []
  }
 ],
 "metadata": {
  "kernelspec": {
   "display_name": "Python 3",
   "language": "python",
   "name": "python3"
  },
  "language_info": {
   "codemirror_mode": {
    "name": "ipython",
    "version": 3
   },
   "file_extension": ".py",
   "mimetype": "text/x-python",
   "name": "python",
   "nbconvert_exporter": "python",
   "pygments_lexer": "ipython3",
   "version": "3.6.3"
  }
 },
 "nbformat": 4,
 "nbformat_minor": 2
}
