{
 "cells": [
  {
   "cell_type": "code",
   "execution_count": 384,
   "metadata": {
    "collapsed": true
   },
   "outputs": [],
   "source": [
    "import pandas as pd\n",
    "import numpy as np\n",
    "import requests\n",
    "from bs4 import BeautifulSoup\n",
    "from selenium import webdriver\n",
    "from selenium.webdriver.common.keys import Keys\n",
    "import time\n",
    "import os\n",
    "import re\n",
    "from io import StringIO"
   ]
  },
  {
   "cell_type": "markdown",
   "metadata": {},
   "source": [
    "# 1.0- Data Scraping"
   ]
  },
  {
   "cell_type": "markdown",
   "metadata": {},
   "source": [
    "First we must pull the data from baskeball-reference.com"
   ]
  },
  {
   "cell_type": "code",
   "execution_count": 470,
   "metadata": {},
   "outputs": [],
   "source": [
    "lebron = 'https://www.basketball-reference.com/players/j/jamesle01.html'\n",
    "rose = 'https://www.basketball-reference.com/players/r/rosede01.html'\n",
    "mj = 'https://www.basketball-reference.com/players/j/jordami01.html'\n",
    "z = 'https://www.basketball-reference.com/players/z/zipsepa01.html'\n",
    "players = [lebron,rose,mj,z]"
   ]
  },
  {
   "cell_type": "code",
   "execution_count": 471,
   "metadata": {
    "collapsed": true
   },
   "outputs": [],
   "source": [
    "chromedriver = \"/home/michael/chromedriver\"\n",
    "os.environ[\"webdriver.chrome.driver\"] = chromedriver"
   ]
  },
  {
   "cell_type": "code",
   "execution_count": 472,
   "metadata": {},
   "outputs": [],
   "source": [
    "driver = webdriver.Chrome(chromedriver)\n",
    "driver.get(players[1])\n",
    "time.sleep(3)\n",
    "expand = driver.find_element_by_xpath('//button[@id=\"meta_more_button\"]')\n",
    "time.sleep(1)\n",
    "expand.click()"
   ]
  },
  {
   "cell_type": "markdown",
   "metadata": {},
   "source": [
    "## 1.1 Get the Player Info"
   ]
  },
  {
   "cell_type": "code",
   "execution_count": 473,
   "metadata": {},
   "outputs": [
    {
     "data": {
      "text/plain": [
       "'Derrick Rose'"
      ]
     },
     "execution_count": 473,
     "metadata": {},
     "output_type": "execute_result"
    }
   ],
   "source": [
    "name = driver.find_element_by_xpath('//h1[@itemprop=\"name\"]').text\n",
    "name"
   ]
  },
  {
   "cell_type": "code",
   "execution_count": 474,
   "metadata": {},
   "outputs": [
    {
     "data": {
      "text/plain": [
       "'6-3'"
      ]
     },
     "execution_count": 474,
     "metadata": {},
     "output_type": "execute_result"
    }
   ],
   "source": [
    "height = driver.find_element_by_xpath('//span[@itemprop=\"height\"]').text\n",
    "height"
   ]
  },
  {
   "cell_type": "code",
   "execution_count": 475,
   "metadata": {},
   "outputs": [
    {
     "data": {
      "text/plain": [
       "'190lb'"
      ]
     },
     "execution_count": 475,
     "metadata": {},
     "output_type": "execute_result"
    }
   ],
   "source": [
    "weight = driver.find_element_by_xpath('//span[@itemprop=\"weight\"]').text\n",
    "weight"
   ]
  },
  {
   "cell_type": "code",
   "execution_count": 476,
   "metadata": {
    "scrolled": true
   },
   "outputs": [
    {
     "data": {
      "text/plain": [
       "['Derrick Rose',\n",
       " 'Derrick Martell Rose ▪ Twitter: drose',\n",
       " '(D-Rose)',\n",
       " 'Position: Point Guard ▪ Shoots: Right',\n",
       " '6-3, 190lb (190cm, 86kg)',\n",
       " 'Team: Cleveland Cavaliers',\n",
       " 'Born: October 4, 1988 (Age: 29-113d) in Chicago, Illinois us',\n",
       " 'College: University of Memphis',\n",
       " 'High School: Simeon Career Academy in Chicago, Illinois',\n",
       " 'Recruiting Rank: 2007 (5)',\n",
       " 'Draft: Chicago Bulls, 1st round (1st pick, 1st overall), 2008 NBA Draft',\n",
       " 'NBA Debut: October 28, 2008',\n",
       " 'Experience: 8 years',\n",
       " '3x All Star',\n",
       " '2010-11 All-NBA',\n",
       " '2008-09 All-Rookie',\n",
       " '2010-11 MVP',\n",
       " '2008-09 ROY',\n",
       " '1',\n",
       " '25',\n",
       " '1',\n",
       " 'Support us without the ads? Go Ad-Free.',\n",
       " 'SUMMARY',\n",
       " '2017-18',\n",
       " 'Career',\n",
       " 'G',\n",
       " '10',\n",
       " '480',\n",
       " 'PTS',\n",
       " '12.7',\n",
       " '19.3',\n",
       " 'TRB',\n",
       " '2.3',\n",
       " '3.7',\n",
       " 'AST',\n",
       " '1.7',\n",
       " '5.9',\n",
       " 'FG%',\n",
       " '48.5',\n",
       " '45.1',\n",
       " 'FG3%',\n",
       " '20.0',\n",
       " '29.7',\n",
       " 'FT%',\n",
       " '90.3',\n",
       " '82.2',\n",
       " 'eFG%',\n",
       " '50.0',\n",
       " '47.4']"
      ]
     },
     "execution_count": 476,
     "metadata": {},
     "output_type": "execute_result"
    }
   ],
   "source": [
    "info = driver.find_element_by_xpath('//div[@id=\"info\"]').text\n",
    "info = info.split('\\n')\n",
    "info #10 Recruit 11 Draft "
   ]
  },
  {
   "cell_type": "code",
   "execution_count": 485,
   "metadata": {},
   "outputs": [
    {
     "data": {
      "text/plain": [
       "['Draft: Chicago Bulls',\n",
       " ' 1st round (1st pick',\n",
       " ' 1st overall)',\n",
       " ' 2008 NBA Draft']"
      ]
     },
     "execution_count": 485,
     "metadata": {},
     "output_type": "execute_result"
    }
   ],
   "source": [
    "draft_regex = re.compile('Draft:')\n",
    "draftstr = [x  for x in info if draft_regex.search(x)]\n",
    "draftstr = draftstr[0].split(',')\n",
    "draftstr"
   ]
  },
  {
   "cell_type": "code",
   "execution_count": 487,
   "metadata": {},
   "outputs": [
    {
     "data": {
      "text/plain": [
       "1"
      ]
     },
     "execution_count": 487,
     "metadata": {},
     "output_type": "execute_result"
    }
   ],
   "source": [
    "draftnbr = draftstr[2].strip().split(' ')\n",
    "draftnbr = draftnbr[0]\n",
    "draftnbr = int(draftnbr[:-2])\n",
    "draftnbr"
   ]
  },
  {
   "cell_type": "code",
   "execution_count": 492,
   "metadata": {},
   "outputs": [
    {
     "data": {
      "text/plain": [
       "2008"
      ]
     },
     "execution_count": 492,
     "metadata": {},
     "output_type": "execute_result"
    }
   ],
   "source": [
    "draftyr = draftstr[3].strip().split(' ')\n",
    "draftyr = int(draftyr[0])\n",
    "draftyr"
   ]
  },
  {
   "cell_type": "code",
   "execution_count": 497,
   "metadata": {},
   "outputs": [
    {
     "data": {
      "text/plain": [
       "5"
      ]
     },
     "execution_count": 497,
     "metadata": {},
     "output_type": "execute_result"
    }
   ],
   "source": [
    "recruit_regex = re.compile('Recruiting')\n",
    "recruitstr = [x  for x in info if recruit_regex.search(x)]\n",
    "recruitstr = recruitstr[0].split(' ')\n",
    "recruitnbr = recruitstr[-1]\n",
    "recruitnbr = int(recruitnbr[1:-1])\n",
    "recruitnbr"
   ]
  },
  {
   "cell_type": "markdown",
   "metadata": {},
   "source": [
    "## 1.2 Get the VORP Yearly Log"
   ]
  },
  {
   "cell_type": "code",
   "execution_count": 410,
   "metadata": {},
   "outputs": [
    {
     "data": {
      "text/plain": [
       "'Season Age Tm Lg Pos G MP PER TS% 3PAr FTr ORB% DRB% TRB% AST% STL% BLK% TOV% USG% OWS DWS WS WS/48 OBPM DBPM BPM VORP\\n2008-09 20 CHI NBA PG 81 3000 16.0 .516 .060 .207 3.7 8.4 6.1 28.8 1.1 0.4 13.3 22.6 3.4 1.5 4.9 .078 0.9 -1.5 -0.6 1.1\\n2009-10 21 CHI NBA PG 78 2871 18.6 .532 .044 .246 2.6 8.7 5.7 30.3 1.0 0.7 12.5 27.2 3.5 2.5 6.0 .100 1.7 -1.3 0.5 1.8\\n2010-11 22 CHI NBA PG 81 3026 23.5 .550 .241 .348 3.2 9.4 6.4 38.7 1.5 1.3 13.1 32.2 8.3 4.8 13.1 .208 5.8 0.1 5.9 6.0\\n2011-12 23 CHI NBA PG 39 1375 23.0 .532 .249 .344 2.1 8.4 5.3 40.3 1.4 1.4 12.9 30.5 4.1 2.0 6.0 .211 5.5 -0.6 4.9 2.4\\n2013-14 25 CHI NBA PG 10 311 9.7 .446 .287 .195 3.3 8.3 5.9 26.2 0.9 0.2 16.0 31.5 -0.6 0.4 -0.2 -0.036 -2.8 -2.3 -5.1 -0.2\\n2014-15 26 CHI NBA PG 51 1530 15.9 .493 .325 .224 2.6 8.7 5.7 30.7 1.2 0.8 14.9 31.7 0.0 1.2 1.2 .038 1.1 -2.3 -1.3 0.3\\n2015-16 27 CHI NBA PG 66 2097 13.4 .479 .143 .171 2.4 8.8 5.6 25.5 1.1 0.5 13.4 27.3 -0.8 1.2 0.4 .009 -1.2 -2.1 -3.3 -0.7\\n2016-17 28 NYK NBA PG 64 2082 17.0 .530 .061 .259 3.4 9.3 6.4 22.8 1.1 0.7 11.9 25.7 2.4 0.6 3.0 .068 0.2 -2.2 -1.9 0.0\\n2017-18 29 CLE NBA PG 10 235 12.5 .564 .152 .313 3.9 7.0 5.5 11.7 0.4 1.1 18.8 26.2 0.0 0.0 -0.1 -0.012 -3.7 -3.9 -7.6 -0.3\\nCareer NBA 480 16527 18.0 .521 .154 .258 3.0 8.8 5.9 30.5 1.2 0.8 13.2 27.8 20.2 14.1 34.3 .100 1.8 -1.4 0.5 10.3\\n7 seasons CHI NBA 406 14210 18.3 .519 .167 .257 2.9 8.8 5.9 32.0 1.2 0.8 13.3 28.2 17.9 13.5 31.4 .106 2.2 -1.2 1.0 10.6\\n1 season NYK NBA 64 2082 17.0 .530 .061 .259 3.4 9.3 6.4 22.8 1.1 0.7 11.9 25.7 2.4 0.6 3.0 .068 0.2 -2.2 -1.9 0.0\\n1 season CLE NBA 10 235 12.5 .564 .152 .313 3.9 7.0 5.5 11.7 0.4 1.1 18.8 26.2 0.0 0.0 -0.1 -0.012 -3.7 -3.9 -7.6 -0.3'"
      ]
     },
     "execution_count": 410,
     "metadata": {},
     "output_type": "execute_result"
    }
   ],
   "source": [
    "advstatsxpath = driver.find_element_by_xpath('//table[@id=\"advanced\"]').text\n",
    "advstatsxpath = advstatsxpath.replace('  ','')\n",
    "advstatsxpath"
   ]
  },
  {
   "cell_type": "code",
   "execution_count": 421,
   "metadata": {},
   "outputs": [
    {
     "data": {
      "text/html": [
       "<div>\n",
       "<style>\n",
       "    .dataframe thead tr:only-child th {\n",
       "        text-align: right;\n",
       "    }\n",
       "\n",
       "    .dataframe thead th {\n",
       "        text-align: left;\n",
       "    }\n",
       "\n",
       "    .dataframe tbody tr th {\n",
       "        vertical-align: top;\n",
       "    }\n",
       "</style>\n",
       "<table border=\"1\" class=\"dataframe\">\n",
       "  <thead>\n",
       "    <tr style=\"text-align: right;\">\n",
       "      <th></th>\n",
       "      <th>Season</th>\n",
       "      <th>Age</th>\n",
       "      <th>Tm</th>\n",
       "      <th>Lg</th>\n",
       "      <th>Pos</th>\n",
       "      <th>G</th>\n",
       "      <th>MP</th>\n",
       "      <th>PER</th>\n",
       "      <th>TS%</th>\n",
       "      <th>3PAr</th>\n",
       "      <th>...</th>\n",
       "      <th>USG%</th>\n",
       "      <th>OWS</th>\n",
       "      <th>DWS</th>\n",
       "      <th>WS</th>\n",
       "      <th>WS/48</th>\n",
       "      <th>OBPM</th>\n",
       "      <th>DBPM</th>\n",
       "      <th>BPM</th>\n",
       "      <th>VORP</th>\n",
       "      <th>player</th>\n",
       "    </tr>\n",
       "  </thead>\n",
       "  <tbody>\n",
       "    <tr>\n",
       "      <th>0</th>\n",
       "      <td>2008-09</td>\n",
       "      <td>20</td>\n",
       "      <td>CHI</td>\n",
       "      <td>NBA</td>\n",
       "      <td>PG</td>\n",
       "      <td>81.0</td>\n",
       "      <td>3000.0</td>\n",
       "      <td>16.0</td>\n",
       "      <td>0.516</td>\n",
       "      <td>0.060</td>\n",
       "      <td>...</td>\n",
       "      <td>22.6</td>\n",
       "      <td>3.4</td>\n",
       "      <td>1.5</td>\n",
       "      <td>4.9</td>\n",
       "      <td>0.078</td>\n",
       "      <td>0.9</td>\n",
       "      <td>-1.5</td>\n",
       "      <td>-0.6</td>\n",
       "      <td>1.1</td>\n",
       "      <td>Derrick Rose</td>\n",
       "    </tr>\n",
       "    <tr>\n",
       "      <th>1</th>\n",
       "      <td>2009-10</td>\n",
       "      <td>21</td>\n",
       "      <td>CHI</td>\n",
       "      <td>NBA</td>\n",
       "      <td>PG</td>\n",
       "      <td>78.0</td>\n",
       "      <td>2871.0</td>\n",
       "      <td>18.6</td>\n",
       "      <td>0.532</td>\n",
       "      <td>0.044</td>\n",
       "      <td>...</td>\n",
       "      <td>27.2</td>\n",
       "      <td>3.5</td>\n",
       "      <td>2.5</td>\n",
       "      <td>6.0</td>\n",
       "      <td>0.100</td>\n",
       "      <td>1.7</td>\n",
       "      <td>-1.3</td>\n",
       "      <td>0.5</td>\n",
       "      <td>1.8</td>\n",
       "      <td>Derrick Rose</td>\n",
       "    </tr>\n",
       "    <tr>\n",
       "      <th>2</th>\n",
       "      <td>2010-11</td>\n",
       "      <td>22</td>\n",
       "      <td>CHI</td>\n",
       "      <td>NBA</td>\n",
       "      <td>PG</td>\n",
       "      <td>81.0</td>\n",
       "      <td>3026.0</td>\n",
       "      <td>23.5</td>\n",
       "      <td>0.550</td>\n",
       "      <td>0.241</td>\n",
       "      <td>...</td>\n",
       "      <td>32.2</td>\n",
       "      <td>8.3</td>\n",
       "      <td>4.8</td>\n",
       "      <td>13.1</td>\n",
       "      <td>0.208</td>\n",
       "      <td>5.8</td>\n",
       "      <td>0.1</td>\n",
       "      <td>5.9</td>\n",
       "      <td>6.0</td>\n",
       "      <td>Derrick Rose</td>\n",
       "    </tr>\n",
       "    <tr>\n",
       "      <th>3</th>\n",
       "      <td>2011-12</td>\n",
       "      <td>23</td>\n",
       "      <td>CHI</td>\n",
       "      <td>NBA</td>\n",
       "      <td>PG</td>\n",
       "      <td>39.0</td>\n",
       "      <td>1375.0</td>\n",
       "      <td>23.0</td>\n",
       "      <td>0.532</td>\n",
       "      <td>0.249</td>\n",
       "      <td>...</td>\n",
       "      <td>30.5</td>\n",
       "      <td>4.1</td>\n",
       "      <td>2.0</td>\n",
       "      <td>6.0</td>\n",
       "      <td>0.211</td>\n",
       "      <td>5.5</td>\n",
       "      <td>-0.6</td>\n",
       "      <td>4.9</td>\n",
       "      <td>2.4</td>\n",
       "      <td>Derrick Rose</td>\n",
       "    </tr>\n",
       "    <tr>\n",
       "      <th>4</th>\n",
       "      <td>2013-14</td>\n",
       "      <td>25</td>\n",
       "      <td>CHI</td>\n",
       "      <td>NBA</td>\n",
       "      <td>PG</td>\n",
       "      <td>10.0</td>\n",
       "      <td>311.0</td>\n",
       "      <td>9.7</td>\n",
       "      <td>0.446</td>\n",
       "      <td>0.287</td>\n",
       "      <td>...</td>\n",
       "      <td>31.5</td>\n",
       "      <td>-0.6</td>\n",
       "      <td>0.4</td>\n",
       "      <td>-0.2</td>\n",
       "      <td>-0.036</td>\n",
       "      <td>-2.8</td>\n",
       "      <td>-2.3</td>\n",
       "      <td>-5.1</td>\n",
       "      <td>-0.2</td>\n",
       "      <td>Derrick Rose</td>\n",
       "    </tr>\n",
       "    <tr>\n",
       "      <th>5</th>\n",
       "      <td>2014-15</td>\n",
       "      <td>26</td>\n",
       "      <td>CHI</td>\n",
       "      <td>NBA</td>\n",
       "      <td>PG</td>\n",
       "      <td>51.0</td>\n",
       "      <td>1530.0</td>\n",
       "      <td>15.9</td>\n",
       "      <td>0.493</td>\n",
       "      <td>0.325</td>\n",
       "      <td>...</td>\n",
       "      <td>31.7</td>\n",
       "      <td>0.0</td>\n",
       "      <td>1.2</td>\n",
       "      <td>1.2</td>\n",
       "      <td>0.038</td>\n",
       "      <td>1.1</td>\n",
       "      <td>-2.3</td>\n",
       "      <td>-1.3</td>\n",
       "      <td>0.3</td>\n",
       "      <td>Derrick Rose</td>\n",
       "    </tr>\n",
       "    <tr>\n",
       "      <th>6</th>\n",
       "      <td>2015-16</td>\n",
       "      <td>27</td>\n",
       "      <td>CHI</td>\n",
       "      <td>NBA</td>\n",
       "      <td>PG</td>\n",
       "      <td>66.0</td>\n",
       "      <td>2097.0</td>\n",
       "      <td>13.4</td>\n",
       "      <td>0.479</td>\n",
       "      <td>0.143</td>\n",
       "      <td>...</td>\n",
       "      <td>27.3</td>\n",
       "      <td>-0.8</td>\n",
       "      <td>1.2</td>\n",
       "      <td>0.4</td>\n",
       "      <td>0.009</td>\n",
       "      <td>-1.2</td>\n",
       "      <td>-2.1</td>\n",
       "      <td>-3.3</td>\n",
       "      <td>-0.7</td>\n",
       "      <td>Derrick Rose</td>\n",
       "    </tr>\n",
       "    <tr>\n",
       "      <th>7</th>\n",
       "      <td>2016-17</td>\n",
       "      <td>28</td>\n",
       "      <td>NYK</td>\n",
       "      <td>NBA</td>\n",
       "      <td>PG</td>\n",
       "      <td>64.0</td>\n",
       "      <td>2082.0</td>\n",
       "      <td>17.0</td>\n",
       "      <td>0.530</td>\n",
       "      <td>0.061</td>\n",
       "      <td>...</td>\n",
       "      <td>25.7</td>\n",
       "      <td>2.4</td>\n",
       "      <td>0.6</td>\n",
       "      <td>3.0</td>\n",
       "      <td>0.068</td>\n",
       "      <td>0.2</td>\n",
       "      <td>-2.2</td>\n",
       "      <td>-1.9</td>\n",
       "      <td>0.0</td>\n",
       "      <td>Derrick Rose</td>\n",
       "    </tr>\n",
       "    <tr>\n",
       "      <th>8</th>\n",
       "      <td>2017-18</td>\n",
       "      <td>29</td>\n",
       "      <td>CLE</td>\n",
       "      <td>NBA</td>\n",
       "      <td>PG</td>\n",
       "      <td>10.0</td>\n",
       "      <td>235.0</td>\n",
       "      <td>12.5</td>\n",
       "      <td>0.564</td>\n",
       "      <td>0.152</td>\n",
       "      <td>...</td>\n",
       "      <td>26.2</td>\n",
       "      <td>0.0</td>\n",
       "      <td>0.0</td>\n",
       "      <td>-0.1</td>\n",
       "      <td>-0.012</td>\n",
       "      <td>-3.7</td>\n",
       "      <td>-3.9</td>\n",
       "      <td>-7.6</td>\n",
       "      <td>-0.3</td>\n",
       "      <td>Derrick Rose</td>\n",
       "    </tr>\n",
       "  </tbody>\n",
       "</table>\n",
       "<p>9 rows × 28 columns</p>\n",
       "</div>"
      ],
      "text/plain": [
       "    Season Age   Tm   Lg Pos     G      MP   PER    TS%   3PAr      ...       \\\n",
       "0  2008-09  20  CHI  NBA  PG  81.0  3000.0  16.0  0.516  0.060      ...        \n",
       "1  2009-10  21  CHI  NBA  PG  78.0  2871.0  18.6  0.532  0.044      ...        \n",
       "2  2010-11  22  CHI  NBA  PG  81.0  3026.0  23.5  0.550  0.241      ...        \n",
       "3  2011-12  23  CHI  NBA  PG  39.0  1375.0  23.0  0.532  0.249      ...        \n",
       "4  2013-14  25  CHI  NBA  PG  10.0   311.0   9.7  0.446  0.287      ...        \n",
       "5  2014-15  26  CHI  NBA  PG  51.0  1530.0  15.9  0.493  0.325      ...        \n",
       "6  2015-16  27  CHI  NBA  PG  66.0  2097.0  13.4  0.479  0.143      ...        \n",
       "7  2016-17  28  NYK  NBA  PG  64.0  2082.0  17.0  0.530  0.061      ...        \n",
       "8  2017-18  29  CLE  NBA  PG  10.0   235.0  12.5  0.564  0.152      ...        \n",
       "\n",
       "   USG%  OWS  DWS    WS  WS/48  OBPM  DBPM  BPM  VORP        player  \n",
       "0  22.6  3.4  1.5   4.9  0.078   0.9  -1.5 -0.6   1.1  Derrick Rose  \n",
       "1  27.2  3.5  2.5   6.0  0.100   1.7  -1.3  0.5   1.8  Derrick Rose  \n",
       "2  32.2  8.3  4.8  13.1  0.208   5.8   0.1  5.9   6.0  Derrick Rose  \n",
       "3  30.5  4.1  2.0   6.0  0.211   5.5  -0.6  4.9   2.4  Derrick Rose  \n",
       "4  31.5 -0.6  0.4  -0.2 -0.036  -2.8  -2.3 -5.1  -0.2  Derrick Rose  \n",
       "5  31.7  0.0  1.2   1.2  0.038   1.1  -2.3 -1.3   0.3  Derrick Rose  \n",
       "6  27.3 -0.8  1.2   0.4  0.009  -1.2  -2.1 -3.3  -0.7  Derrick Rose  \n",
       "7  25.7  2.4  0.6   3.0  0.068   0.2  -2.2 -1.9   0.0  Derrick Rose  \n",
       "8  26.2  0.0  0.0  -0.1 -0.012  -3.7  -3.9 -7.6  -0.3  Derrick Rose  \n",
       "\n",
       "[9 rows x 28 columns]"
      ]
     },
     "execution_count": 421,
     "metadata": {},
     "output_type": "execute_result"
    }
   ],
   "source": [
    "dfadvstats = pd.read_csv(StringIO(advstatsxpath),sep=' ')\n",
    "dfadvstats = dfadvstats.dropna()\n",
    "dfadvstats['player'] = name\n",
    "dfadvstats"
   ]
  },
  {
   "cell_type": "markdown",
   "metadata": {},
   "source": [
    "## 1.3 College Stats"
   ]
  },
  {
   "cell_type": "code",
   "execution_count": null,
   "metadata": {
    "collapsed": true
   },
   "outputs": [],
   "source": []
  }
 ],
 "metadata": {
  "kernelspec": {
   "display_name": "Python 3",
   "language": "python",
   "name": "python3"
  },
  "language_info": {
   "codemirror_mode": {
    "name": "ipython",
    "version": 3
   },
   "file_extension": ".py",
   "mimetype": "text/x-python",
   "name": "python",
   "nbconvert_exporter": "python",
   "pygments_lexer": "ipython3",
   "version": "3.6.3"
  }
 },
 "nbformat": 4,
 "nbformat_minor": 2
}
