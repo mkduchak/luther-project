{
 "cells": [
  {
   "cell_type": "code",
   "execution_count": 1,
   "metadata": {
    "collapsed": true
   },
   "outputs": [],
   "source": [
    "import pandas as pd\n",
    "import numpy as np\n",
    "import requests\n",
    "from bs4 import BeautifulSoup\n",
    "from selenium import webdriver\n",
    "from selenium.webdriver.common.keys import Keys\n",
    "import time\n",
    "import os\n",
    "import re\n",
    "from io import StringIO"
   ]
  },
  {
   "cell_type": "markdown",
   "metadata": {},
   "source": [
    "# 1.0 Scraping Data"
   ]
  },
  {
   "cell_type": "markdown",
   "metadata": {},
   "source": [
    "## 1.1 Function for Page"
   ]
  },
  {
   "cell_type": "code",
   "execution_count": 2,
   "metadata": {
    "collapsed": true
   },
   "outputs": [],
   "source": [
    "def page_scrape(startplayerdf,startstatdf):\n",
    "    \"\"\"\n",
    "    Function to pull all relevent data in player page and add the information to the base dataframe\n",
    "    There are 2 data frames:\n",
    "        The player Data Frame with name, height, draft nbr etc \n",
    "        The stats data frame with all of the adv stats by year for the player\n",
    "        They are connected through the player name\n",
    "    \n",
    "    \"\"\"\n",
    "    \n",
    "    #Name, Height, Weight Come directly from xpath lookups\n",
    "    name = driver.find_element_by_xpath('//h1[@itemprop=\"name\"]').text\n",
    "    \n",
    "    height = driver.find_element_by_xpath('//span[@itemprop=\"height\"]').text\n",
    "    height = height.split('-')\n",
    "    height = int(height[0])+(int(height[1])/12)\n",
    "    \n",
    "    weight = driver.find_element_by_xpath('//span[@itemprop=\"weight\"]').text\n",
    "    weight = int(weight[:-2])\n",
    "    \n",
    "    #Draft Number, Draft year and Recruit number come from a larger info section, this breaks up the info section\n",
    "    info = driver.find_element_by_xpath('//div[@id=\"info\"]').text\n",
    "    info = info.split('\\n')\n",
    "    draft_regex = re.compile('Draft:')\n",
    "    draftstr = [x  for x in info if draft_regex.search(x)]\n",
    "    draftstr = draftstr[0].split(',')\n",
    "    \n",
    "    draftnbr = draftstr[2].strip().split(' ')\n",
    "    draftnbr = draftnbr[0]\n",
    "    draftnbr = int(draftnbr[:-2])\n",
    "    \n",
    "    draftyr = draftstr[3].strip().split(' ')\n",
    "    draftyr = int(draftyr[0])\n",
    "    \n",
    "    try: #Not all players have recruit number\n",
    "        recruit_regex = re.compile('Recruiting')\n",
    "        recruitstr = [x  for x in info if recruit_regex.search(x)]    \n",
    "        recruitstr = recruitstr[0].split(' ')\n",
    "        recruitnbr = recruitstr[-1]\n",
    "        recruitnbr = int(recruitnbr[1:-1])\n",
    "    except:\n",
    "        recruitnbr = 0\n",
    "    \n",
    "    #creates a new data frame for player info to append to the starting player df\n",
    "    dfscrapeinfo = pd.DataFrame(index=[0])\n",
    "    dfscrapeinfo['player'] = name\n",
    "    dfscrapeinfo['height'] = height\n",
    "    dfscrapeinfo['weight'] = weight\n",
    "    dfscrapeinfo['draftnbr']  = draftnbr\n",
    "    dfscrapeinfo['draftyr'] = draftyr\n",
    "    dfscrapeinfo['recruitnbr'] = recruitnbr\n",
    "    \n",
    "    startplayerdf = startplayerdf.append(dfscrapeinfo)\n",
    "    \n",
    "    \n",
    "    #Gets the advanced stats table into a df then appends on to starting stats df\n",
    "    advstatsxpath = driver.find_element_by_xpath('//table[@id=\"advanced\"]').text\n",
    "    advstatsxpath = advstatsxpath.replace('  ','')\n",
    "    dfadvstats = pd.read_csv(StringIO(advstatsxpath),sep=' ')\n",
    "    dfadvstats = dfadvstats.dropna()\n",
    "    dfadvstats['player'] = name\n",
    "    \n",
    "    startstatdf = startstatdf.append(dfadvstats)\n",
    "    \n",
    "    #prints last completed name so I can error test / log progress\n",
    "    return print(name)\n",
    "    "
   ]
  },
  {
   "cell_type": "code",
   "execution_count": null,
   "metadata": {
    "collapsed": true
   },
   "outputs": [],
   "source": []
  }
 ],
 "metadata": {
  "kernelspec": {
   "display_name": "Python 3",
   "language": "python",
   "name": "python3"
  },
  "language_info": {
   "codemirror_mode": {
    "name": "ipython",
    "version": 3
   },
   "file_extension": ".py",
   "mimetype": "text/x-python",
   "name": "python",
   "nbconvert_exporter": "python",
   "pygments_lexer": "ipython3",
   "version": "3.6.3"
  }
 },
 "nbformat": 4,
 "nbformat_minor": 2
}
