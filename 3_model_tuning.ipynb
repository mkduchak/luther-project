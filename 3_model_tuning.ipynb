{
 "cells": [
  {
   "cell_type": "code",
   "execution_count": 127,
   "metadata": {},
   "outputs": [],
   "source": [
    "import pandas as pd\n",
    "import numpy as np\n",
    "from sklearn.linear_model import LinearRegression\n",
    "from sklearn.linear_model import Ridge\n",
    "from sklearn.linear_model import Lasso\n",
    "from sklearn.metrics import mean_squared_error\n",
    "from sklearn.pipeline import Pipeline\n",
    "from sklearn.preprocessing import PolynomialFeatures\n",
    "from sklearn.model_selection import KFold\n"
   ]
  },
  {
   "cell_type": "markdown",
   "metadata": {},
   "source": [
    "# 3.0 Model Evaluation and Tuning\n",
    "\n",
    "## 3.0 Get Data to be Modeled\n",
    "\n",
    "\n",
    "I used David Ziganto's metrics and error functions to calculate the training error and validation error\n"
   ]
  },
  {
   "cell_type": "code",
   "execution_count": 90,
   "metadata": {
    "collapsed": true
   },
   "outputs": [],
   "source": [
    "def calc_train_error(X_train, y_train, model):\n",
    "    '''returns in-sample error for already fit model.'''\n",
    "    predictions = model.predict(X_train)\n",
    "    mse = mean_squared_error(y_train, predictions)\n",
    "    rmse = np.sqrt(mse)\n",
    "    return mse\n",
    "    \n",
    "def calc_validation_error(X_test, y_test, model):\n",
    "    '''returns out-of-sample error for already fit model.'''\n",
    "    predictions = model.predict(X_test)\n",
    "    mse = mean_squared_error(y_test, predictions)\n",
    "    rmse = np.sqrt(mse)\n",
    "    return mse\n",
    "    \n",
    "def calc_metrics(X_train, y_train, X_test, y_test, model):\n",
    "    '''fits model and returns the RMSE for in-sample error and out-of-sample error'''\n",
    "    model.fit(X_train, y_train)\n",
    "    train_error = calc_train_error(X_train, y_train, model)\n",
    "    validation_error = calc_validation_error(X_test, y_test, model)\n",
    "    return train_error, validation_error"
   ]
  },
  {
   "cell_type": "code",
   "execution_count": 270,
   "metadata": {},
   "outputs": [],
   "source": [
    "def cross_validate_errors(modeldata, modeltarget, model, folds):  \n",
    "    \"\"\"\n",
    "    Function to take a model, folds and data/target and prints the train error and validation error for each fold\n",
    "    \"\"\"\n",
    "    train_e_list = []\n",
    "    val_e_list = []\n",
    "    for data_idx, val_idx in folds.split(modeldata,modeltarget):\n",
    "        trainX = modeldata.iloc[data_idx]\n",
    "        testX = modeldata.iloc[val_idx]\n",
    "        trainy = modeltarget.iloc[data_idx]\n",
    "        testy = modeltarget.iloc[val_idx]\n",
    "        \n",
    "        train_e, val_e = calc_metrics(trainX, trainy, testX, testy, model)\n",
    "        \n",
    "        train_e_list.append(train_e)\n",
    "        val_e_list.append(val_e)\n",
    "        \n",
    "    terror = np.mean(train_e_list)\n",
    "    verror = np.mean(val_e_list)\n",
    "    return print(str(round(terror,6)) + ' Training Error, ' + str(round(verror,6)) + ' Valid error')"
   ]
  },
  {
   "cell_type": "code",
   "execution_count": 193,
   "metadata": {
    "collapsed": true
   },
   "outputs": [],
   "source": [
    "dataraw = pd.read_pickle('data/modeldata.pkl')\n",
    "dataraw = dataraw.reset_index(drop=True)"
   ]
  },
  {
   "cell_type": "code",
   "execution_count": 194,
   "metadata": {},
   "outputs": [
    {
     "data": {
      "text/plain": [
       "(998, 10)"
      ]
     },
     "execution_count": 194,
     "metadata": {},
     "output_type": "execute_result"
    }
   ],
   "source": [
    "dataraw.shape"
   ]
  },
  {
   "cell_type": "code",
   "execution_count": 195,
   "metadata": {},
   "outputs": [],
   "source": [
    "dataraw['logavgVORP'] = np.log10(dataraw['avgVORP'] + 1e1)"
   ]
  },
  {
   "cell_type": "code",
   "execution_count": 379,
   "metadata": {},
   "outputs": [
    {
     "data": {
      "text/html": [
       "<div>\n",
       "<style>\n",
       "    .dataframe thead tr:only-child th {\n",
       "        text-align: right;\n",
       "    }\n",
       "\n",
       "    .dataframe thead th {\n",
       "        text-align: left;\n",
       "    }\n",
       "\n",
       "    .dataframe tbody tr th {\n",
       "        vertical-align: top;\n",
       "    }\n",
       "</style>\n",
       "<table border=\"1\" class=\"dataframe\">\n",
       "  <thead>\n",
       "    <tr style=\"text-align: right;\">\n",
       "      <th></th>\n",
       "      <th>draftnbr</th>\n",
       "      <th>Age</th>\n",
       "      <th>height</th>\n",
       "      <th>FG%</th>\n",
       "      <th>3P%</th>\n",
       "      <th>avgPTS</th>\n",
       "      <th>avgMP</th>\n",
       "      <th>avgTRB</th>\n",
       "      <th>avgAST</th>\n",
       "      <th>avgVORP</th>\n",
       "      <th>logavgVORP</th>\n",
       "    </tr>\n",
       "  </thead>\n",
       "  <tbody>\n",
       "    <tr>\n",
       "      <th>0</th>\n",
       "      <td>1</td>\n",
       "      <td>19.0</td>\n",
       "      <td>6.833333</td>\n",
       "      <td>0.623</td>\n",
       "      <td>0.150</td>\n",
       "      <td>14.2</td>\n",
       "      <td>32.0</td>\n",
       "      <td>10.4</td>\n",
       "      <td>1.3</td>\n",
       "      <td>3.400000</td>\n",
       "      <td>1.127105</td>\n",
       "    </tr>\n",
       "    <tr>\n",
       "      <th>1</th>\n",
       "      <td>2</td>\n",
       "      <td>19.0</td>\n",
       "      <td>6.583333</td>\n",
       "      <td>0.491</td>\n",
       "      <td>0.255</td>\n",
       "      <td>11.9</td>\n",
       "      <td>31.1</td>\n",
       "      <td>7.4</td>\n",
       "      <td>1.9</td>\n",
       "      <td>0.433333</td>\n",
       "      <td>1.018423</td>\n",
       "    </tr>\n",
       "    <tr>\n",
       "      <th>2</th>\n",
       "      <td>3</td>\n",
       "      <td>19.0</td>\n",
       "      <td>6.416667</td>\n",
       "      <td>0.445</td>\n",
       "      <td>0.339</td>\n",
       "      <td>14.8</td>\n",
       "      <td>34.2</td>\n",
       "      <td>6.7</td>\n",
       "      <td>2.2</td>\n",
       "      <td>1.316667</td>\n",
       "      <td>1.053719</td>\n",
       "    </tr>\n",
       "    <tr>\n",
       "      <th>3</th>\n",
       "      <td>4</td>\n",
       "      <td>21.0</td>\n",
       "      <td>6.333333</td>\n",
       "      <td>0.453</td>\n",
       "      <td>0.348</td>\n",
       "      <td>9.7</td>\n",
       "      <td>20.4</td>\n",
       "      <td>1.9</td>\n",
       "      <td>2.0</td>\n",
       "      <td>-0.312500</td>\n",
       "      <td>0.986212</td>\n",
       "    </tr>\n",
       "    <tr>\n",
       "      <th>4</th>\n",
       "      <td>5</td>\n",
       "      <td>21.0</td>\n",
       "      <td>6.833333</td>\n",
       "      <td>0.525</td>\n",
       "      <td>0.500</td>\n",
       "      <td>9.8</td>\n",
       "      <td>18.7</td>\n",
       "      <td>7.3</td>\n",
       "      <td>1.0</td>\n",
       "      <td>-0.244444</td>\n",
       "      <td>0.989252</td>\n",
       "    </tr>\n",
       "  </tbody>\n",
       "</table>\n",
       "</div>"
      ],
      "text/plain": [
       "   draftnbr   Age    height    FG%    3P%  avgPTS  avgMP  avgTRB  avgAST  \\\n",
       "0         1  19.0  6.833333  0.623  0.150    14.2   32.0    10.4     1.3   \n",
       "1         2  19.0  6.583333  0.491  0.255    11.9   31.1     7.4     1.9   \n",
       "2         3  19.0  6.416667  0.445  0.339    14.8   34.2     6.7     2.2   \n",
       "3         4  21.0  6.333333  0.453  0.348     9.7   20.4     1.9     2.0   \n",
       "4         5  21.0  6.833333  0.525  0.500     9.8   18.7     7.3     1.0   \n",
       "\n",
       "    avgVORP  logavgVORP  \n",
       "0  3.400000    1.127105  \n",
       "1  0.433333    1.018423  \n",
       "2  1.316667    1.053719  \n",
       "3 -0.312500    0.986212  \n",
       "4 -0.244444    0.989252  "
      ]
     },
     "execution_count": 379,
     "metadata": {},
     "output_type": "execute_result"
    }
   ],
   "source": [
    "dataraw.head()"
   ]
  },
  {
   "cell_type": "code",
   "execution_count": 355,
   "metadata": {},
   "outputs": [],
   "source": [
    "modeldata = dataraw[['draftnbr','Age','avgTRB','avgAST','avgPTS','FG%']]\n",
    "modeltarget = dataraw[['logavgVORP']]"
   ]
  },
  {
   "cell_type": "code",
   "execution_count": 285,
   "metadata": {},
   "outputs": [],
   "source": [
    "alpha = [1e-7,1e-6,1e-5,1e-4, 1e-3, 1e-2, 1e-1, 1, 1e1]\n",
    "folds = KFold(n_splits=10, shuffle=True, random_state=15)"
   ]
  },
  {
   "cell_type": "code",
   "execution_count": 372,
   "metadata": {},
   "outputs": [],
   "source": [
    "lasso = Lasso(alpha=alpha[3], fit_intercept=True, random_state=77)\n",
    "reg = LinearRegression()"
   ]
  },
  {
   "cell_type": "code",
   "execution_count": 376,
   "metadata": {},
   "outputs": [
    {
     "name": "stdout",
     "output_type": "stream",
     "text": [
      "0.001349 Training Error, 0.001377 Valid error\n"
     ]
    }
   ],
   "source": [
    "cross_validate_errors(modeldata, modeltarget, lasso,folds)"
   ]
  },
  {
   "cell_type": "code",
   "execution_count": 377,
   "metadata": {},
   "outputs": [
    {
     "data": {
      "text/plain": [
       "array([ 1.07904533])"
      ]
     },
     "execution_count": 377,
     "metadata": {},
     "output_type": "execute_result"
    }
   ],
   "source": [
    "lasso.fit(modeldata,modeltarget)\n",
    "lasso.intercept_d"
   ]
  },
  {
   "cell_type": "code",
   "execution_count": 378,
   "metadata": {},
   "outputs": [
    {
     "data": {
      "text/plain": [
       "array([-0.00138467, -0.00388794,  0.00474214,  0.00860353, -0.00072074,\n",
       "        0.01850763])"
      ]
     },
     "execution_count": 378,
     "metadata": {},
     "output_type": "execute_result"
    }
   ],
   "source": [
    "lasso.coef_"
   ]
  },
  {
   "cell_type": "code",
   "execution_count": null,
   "metadata": {
    "collapsed": true
   },
   "outputs": [],
   "source": []
  }
 ],
 "metadata": {
  "kernelspec": {
   "display_name": "Python 3",
   "language": "python",
   "name": "python3"
  },
  "language_info": {
   "codemirror_mode": {
    "name": "ipython",
    "version": 3
   },
   "file_extension": ".py",
   "mimetype": "text/x-python",
   "name": "python",
   "nbconvert_exporter": "python",
   "pygments_lexer": "ipython3",
   "version": "3.6.3"
  }
 },
 "nbformat": 4,
 "nbformat_minor": 2
}
