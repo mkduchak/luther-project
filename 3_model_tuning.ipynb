{
 "cells": [
  {
   "cell_type": "code",
   "execution_count": 649,
   "metadata": {},
   "outputs": [],
   "source": [
    "import pandas as pd\n",
    "import numpy as np\n",
    "from sklearn.linear_model import LinearRegression\n",
    "from sklearn.linear_model import Ridge\n",
    "from sklearn.linear_model import Lasso\n",
    "from sklearn.linear_model import HuberRegressor\n",
    "from sklearn.metrics import mean_squared_error\n",
    "from sklearn.pipeline import Pipeline, make_pipeline\n",
    "from sklearn.preprocessing import PolynomialFeatures\n",
    "from sklearn.preprocessing import StandardScaler\n",
    "from sklearn.model_selection import KFold\n",
    "from statsmodels import robust\n",
    "import seaborn as sns\n",
    "\n",
    "import warnings\n",
    "warnings.filterwarnings(\"ignore\")"
   ]
  },
  {
   "cell_type": "markdown",
   "metadata": {},
   "source": [
    "# 3.0 Model Evaluation and Tuning\n",
    "\n",
    "## 3.0 Get Data to be Modeled\n",
    "\n",
    "\n",
    "I used David Ziganto's metrics and error functions to calculate the training error and validation error\n"
   ]
  },
  {
   "cell_type": "code",
   "execution_count": 90,
   "metadata": {
    "collapsed": true
   },
   "outputs": [],
   "source": [
    "def calc_train_error(X_train, y_train, model):\n",
    "    '''returns in-sample error for already fit model.'''\n",
    "    predictions = model.predict(X_train)\n",
    "    mse = mean_squared_error(y_train, predictions)\n",
    "    rmse = np.sqrt(mse)\n",
    "    return mse\n",
    "    \n",
    "def calc_validation_error(X_test, y_test, model):\n",
    "    '''returns out-of-sample error for already fit model.'''\n",
    "    predictions = model.predict(X_test)\n",
    "    mse = mean_squared_error(y_test, predictions)\n",
    "    rmse = np.sqrt(mse)\n",
    "    return mse\n",
    "    \n",
    "def calc_metrics(X_train, y_train, X_test, y_test, model):\n",
    "    '''fits model and returns the RMSE for in-sample error and out-of-sample error'''\n",
    "    model.fit(X_train, y_train)\n",
    "    train_error = calc_train_error(X_train, y_train, model)\n",
    "    validation_error = calc_validation_error(X_test, y_test, model)\n",
    "    return train_error, validation_error"
   ]
  },
  {
   "cell_type": "code",
   "execution_count": 702,
   "metadata": {},
   "outputs": [],
   "source": [
    "def cross_validate_errors(modeldata, modeltarget, model):  \n",
    "    \"\"\"\n",
    "    Function to take a model, folds and data/target and prints the train error and validation error for each fold\n",
    "    \"\"\"\n",
    "    folds = KFold(n_splits=10, shuffle=True, random_state=15)\n",
    "    train_e_list = []\n",
    "    val_e_list = []\n",
    "    for data_idx, val_idx in folds.split(modeldata,modeltarget):\n",
    "        trainX = modeldata.iloc[data_idx]\n",
    "        testX = modeldata.iloc[val_idx]\n",
    "        trainy = modeltarget.iloc[data_idx]\n",
    "        testy = modeltarget.iloc[val_idx]\n",
    "        \n",
    "        train_e, val_e = calc_metrics(trainX, trainy, testX, testy, model)\n",
    "        train_e = ((train_e)**-1)-1\n",
    "        val_e = ((val_e)**-1)-1\n",
    "        \n",
    "        train_e_list.append(train_e)\n",
    "        val_e_list.append(val_e)\n",
    "        \n",
    "    terror = np.mean(train_e_list)\n",
    "    verror = np.mean(val_e_list)\n",
    "    return print(str(round(terror,6)) + ' Training Error, ' + str(round(verror,6)) + ' Valid error')"
   ]
  },
  {
   "cell_type": "code",
   "execution_count": 447,
   "metadata": {
    "collapsed": true
   },
   "outputs": [],
   "source": [
    "dataraw = pd.read_pickle('data/modeldata.pkl')\n",
    "dataraw = dataraw.reset_index(drop=True)"
   ]
  },
  {
   "cell_type": "code",
   "execution_count": 448,
   "metadata": {},
   "outputs": [
    {
     "data": {
      "text/plain": [
       "(998, 10)"
      ]
     },
     "execution_count": 448,
     "metadata": {},
     "output_type": "execute_result"
    }
   ],
   "source": [
    "dataraw.shape"
   ]
  },
  {
   "cell_type": "code",
   "execution_count": 520,
   "metadata": {},
   "outputs": [],
   "source": [
    "dataraw['logavgVORP'] = np.log(dataraw['avgVORP']+1e1)\n",
    "dataraw['log10avgVORP'] = np.log10(dataraw['avgVORP']+1e1)"
   ]
  },
  {
   "cell_type": "code",
   "execution_count": 661,
   "metadata": {},
   "outputs": [
    {
     "data": {
      "text/html": [
       "<div>\n",
       "<style>\n",
       "    .dataframe thead tr:only-child th {\n",
       "        text-align: right;\n",
       "    }\n",
       "\n",
       "    .dataframe thead th {\n",
       "        text-align: left;\n",
       "    }\n",
       "\n",
       "    .dataframe tbody tr th {\n",
       "        vertical-align: top;\n",
       "    }\n",
       "</style>\n",
       "<table border=\"1\" class=\"dataframe\">\n",
       "  <thead>\n",
       "    <tr style=\"text-align: right;\">\n",
       "      <th></th>\n",
       "      <th>draftnbr</th>\n",
       "      <th>Age</th>\n",
       "      <th>height</th>\n",
       "      <th>FG%</th>\n",
       "      <th>3P%</th>\n",
       "      <th>avgPTS</th>\n",
       "      <th>avgMP</th>\n",
       "      <th>avgTRB</th>\n",
       "      <th>avgAST</th>\n",
       "      <th>avgVORP</th>\n",
       "      <th>logavgVORP</th>\n",
       "      <th>log10avgVORP</th>\n",
       "    </tr>\n",
       "  </thead>\n",
       "  <tbody>\n",
       "    <tr>\n",
       "      <th>0</th>\n",
       "      <td>1</td>\n",
       "      <td>19.0</td>\n",
       "      <td>6.833333</td>\n",
       "      <td>0.623</td>\n",
       "      <td>0.150</td>\n",
       "      <td>14.2</td>\n",
       "      <td>32.0</td>\n",
       "      <td>10.4</td>\n",
       "      <td>1.3</td>\n",
       "      <td>3.400000</td>\n",
       "      <td>2.595255</td>\n",
       "      <td>1.127105</td>\n",
       "    </tr>\n",
       "    <tr>\n",
       "      <th>1</th>\n",
       "      <td>2</td>\n",
       "      <td>19.0</td>\n",
       "      <td>6.583333</td>\n",
       "      <td>0.491</td>\n",
       "      <td>0.255</td>\n",
       "      <td>11.9</td>\n",
       "      <td>31.1</td>\n",
       "      <td>7.4</td>\n",
       "      <td>1.9</td>\n",
       "      <td>0.433333</td>\n",
       "      <td>2.345006</td>\n",
       "      <td>1.018423</td>\n",
       "    </tr>\n",
       "    <tr>\n",
       "      <th>2</th>\n",
       "      <td>3</td>\n",
       "      <td>19.0</td>\n",
       "      <td>6.416667</td>\n",
       "      <td>0.445</td>\n",
       "      <td>0.339</td>\n",
       "      <td>14.8</td>\n",
       "      <td>34.2</td>\n",
       "      <td>6.7</td>\n",
       "      <td>2.2</td>\n",
       "      <td>1.316667</td>\n",
       "      <td>2.426277</td>\n",
       "      <td>1.053719</td>\n",
       "    </tr>\n",
       "    <tr>\n",
       "      <th>3</th>\n",
       "      <td>4</td>\n",
       "      <td>21.0</td>\n",
       "      <td>6.333333</td>\n",
       "      <td>0.453</td>\n",
       "      <td>0.348</td>\n",
       "      <td>9.7</td>\n",
       "      <td>20.4</td>\n",
       "      <td>1.9</td>\n",
       "      <td>2.0</td>\n",
       "      <td>-0.312500</td>\n",
       "      <td>2.270836</td>\n",
       "      <td>0.986212</td>\n",
       "    </tr>\n",
       "    <tr>\n",
       "      <th>4</th>\n",
       "      <td>5</td>\n",
       "      <td>21.0</td>\n",
       "      <td>6.833333</td>\n",
       "      <td>0.525</td>\n",
       "      <td>0.500</td>\n",
       "      <td>9.8</td>\n",
       "      <td>18.7</td>\n",
       "      <td>7.3</td>\n",
       "      <td>1.0</td>\n",
       "      <td>-0.244444</td>\n",
       "      <td>2.277837</td>\n",
       "      <td>0.989252</td>\n",
       "    </tr>\n",
       "  </tbody>\n",
       "</table>\n",
       "</div>"
      ],
      "text/plain": [
       "   draftnbr   Age    height    FG%    3P%  avgPTS  avgMP  avgTRB  avgAST  \\\n",
       "0         1  19.0  6.833333  0.623  0.150    14.2   32.0    10.4     1.3   \n",
       "1         2  19.0  6.583333  0.491  0.255    11.9   31.1     7.4     1.9   \n",
       "2         3  19.0  6.416667  0.445  0.339    14.8   34.2     6.7     2.2   \n",
       "3         4  21.0  6.333333  0.453  0.348     9.7   20.4     1.9     2.0   \n",
       "4         5  21.0  6.833333  0.525  0.500     9.8   18.7     7.3     1.0   \n",
       "\n",
       "    avgVORP  logavgVORP  log10avgVORP  \n",
       "0  3.400000    2.595255      1.127105  \n",
       "1  0.433333    2.345006      1.018423  \n",
       "2  1.316667    2.426277      1.053719  \n",
       "3 -0.312500    2.270836      0.986212  \n",
       "4 -0.244444    2.277837      0.989252  "
      ]
     },
     "execution_count": 661,
     "metadata": {},
     "output_type": "execute_result"
    }
   ],
   "source": [
    "dataraw.head()"
   ]
  },
  {
   "cell_type": "markdown",
   "metadata": {},
   "source": [
    "## 3.1 Testing Lasso Lambda (alpha)\n",
    "First using a basic model, we want to test lambdas (alphas in sklearn) so we run the basic model through cross validation using different alphas"
   ]
  },
  {
   "cell_type": "code",
   "execution_count": 712,
   "metadata": {},
   "outputs": [],
   "source": [
    "modeldata = dataraw[['draftnbr','Age','height','avgTRB','avgAST','avgMP','FG%']]\n",
    "modeltarget = dataraw[['logavgVORP']]"
   ]
  },
  {
   "cell_type": "code",
   "execution_count": 716,
   "metadata": {
    "scrolled": false
   },
   "outputs": [
    {
     "name": "stdout",
     "output_type": "stream",
     "text": [
      "Alpha: 0.0001\n",
      "139.680444 Training Error, 138.550366 Valid error\n",
      "[-0.00304177 -0.00996773 -0.02378254  0.01130036  0.01954026 -0.00145857\n",
      "  0.13061313]\n",
      "Alpha: 0.001\n",
      "138.115858 Training Error, 137.675201 Valid error\n",
      "[-0.00317017 -0.00839234 -0.          0.01054042  0.01911738 -0.00113882\n",
      "  0.        ]\n",
      "Alpha: 0.01\n",
      "134.137494 Training Error, 134.146195 Valid error\n",
      "[-0.00354162 -0.00306973 -0.          0.00582747  0.00923338  0.          0.        ]\n",
      "Alpha: 0.1\n",
      "122.782407 Training Error, 124.265584 Valid error\n",
      "[-0.00283128 -0.         -0.          0.          0.          0.          0.        ]\n",
      "Alpha: 1\n",
      "107.276117 Training Error, 109.064285 Valid error\n",
      "[-0. -0. -0.  0.  0.  0.  0.]\n"
     ]
    }
   ],
   "source": [
    "alpha = [1e-4, 1e-3, 1e-2, 1e-1, 1]#, 1e1,1e2]\n",
    "for alpha in alpha:\n",
    "    lasso = Lasso(alpha=alpha, fit_intercept=True, random_state=77)\n",
    "    print('Alpha: '+str(alpha))\n",
    "    cross_validate_errors(modeldata, modeltarget, lasso)\n",
    "    print(lasso.fit(modeldata,modeltarget).coef_)"
   ]
  },
  {
   "cell_type": "code",
   "execution_count": 704,
   "metadata": {},
   "outputs": [
    {
     "name": "stdout",
     "output_type": "stream",
     "text": [
      "139.485377 Training Error, 138.054327 Valid error\n"
     ]
    }
   ],
   "source": [
    "m1 = make_pipeline(LinearRegression())\n",
    "cross_validate_errors(modeldata, modeltarget, m1)"
   ]
  },
  {
   "cell_type": "code",
   "execution_count": 705,
   "metadata": {},
   "outputs": [
    {
     "name": "stdout",
     "output_type": "stream",
     "text": [
      "79.54274 Training Error, 76.042206 Valid error\n"
     ]
    },
    {
     "data": {
      "text/plain": [
       "array([[ -1.80431780e+10,  -4.14257755e-02,  -6.42740242e-02,\n",
       "          1.18187747e-02,   1.77835614e-02,   1.19231794e-03,\n",
       "         -2.68079437e-02,  -1.28105853e+00,   9.57692457e-05,\n",
       "          2.06941995e-03,   1.21127395e-04,  -2.23747233e-03,\n",
       "          8.66923336e-04,  -5.86165263e-04,  -4.58691626e-02,\n",
       "          1.52093078e-03,  -2.65608808e-03,   4.99064009e-04,\n",
       "         -3.36058297e-03,   3.67267038e-03,   3.96466732e-02,\n",
       "         -3.30255674e-03,   2.86075298e-03,   2.49946407e-03,\n",
       "         -5.92267889e-04,   6.04843471e-02,  -1.95591035e-02,\n",
       "          4.02554120e-04,   5.83239730e-03,   1.03906653e-01,\n",
       "          1.28887616e-03,  -3.18674682e-03,   2.99661762e-02,\n",
       "          1.47333011e-03,  -2.15407966e-02,   1.28664585e-01]])"
      ]
     },
     "execution_count": 705,
     "metadata": {},
     "output_type": "execute_result"
    }
   ],
   "source": [
    "m2 = make_pipeline(PolynomialFeatures(2), LinearRegression())\n",
    "cross_validate_errors(modeldata, modeltarget, m2)\n",
    "model1 = m2.fit(modeldata, modeltarget)\n",
    "model1.steps[1][1].coef_"
   ]
  },
  {
   "cell_type": "code",
   "execution_count": 706,
   "metadata": {},
   "outputs": [
    {
     "name": "stdout",
     "output_type": "stream",
     "text": [
      "0.0001\n",
      "151.75953 Training Error, 140.797656 Valid error\n",
      "[  0.00000000e+00  -9.04749535e-03  -2.50968834e-02  -1.18611972e-02\n",
      "   3.29900271e-05  -4.72571993e-03  -1.47627755e-02  -0.00000000e+00\n",
      "   1.56412626e-04   4.01494295e-04  -1.53517394e-04  -9.84472589e-04\n",
      "   1.01376619e-04  -1.06452780e-04  -1.16377774e-02  -2.92550916e-05\n",
      "  -1.06611347e-04  -8.85382368e-04   7.92419655e-05   7.65077166e-04\n",
      "   0.00000000e+00  -6.55815235e-05   8.39341278e-04   6.02395586e-04\n",
      "   4.77207521e-05   1.12715841e-02  -4.00565520e-03   1.30292918e-03\n",
      "   5.09730542e-04   5.84533310e-02  -9.48738024e-05  -2.75683008e-04\n",
      "   9.94927097e-03   2.60921697e-04  -8.38511783e-03   0.00000000e+00]\n",
      "0.001\n",
      "150.201121 Training Error, 141.873719 Valid error\n",
      "[  0.00000000e+00  -9.20200980e-03  -0.00000000e+00  -0.00000000e+00\n",
      "   0.00000000e+00  -0.00000000e+00  -0.00000000e+00   0.00000000e+00\n",
      "   1.68132571e-04   1.97399549e-04  -2.21659220e-04  -9.46984367e-04\n",
      "   8.70859137e-05  -7.67378777e-05  -2.72169367e-03  -2.40355562e-04\n",
      "  -2.15002285e-04   3.17832273e-04  -2.97401373e-05   8.94511695e-06\n",
      "   0.00000000e+00   1.85733643e-05   1.23024100e-03   4.79524716e-04\n",
      "   3.96793319e-06   0.00000000e+00  -4.18355584e-03   1.31505260e-03\n",
      "   5.08466515e-04   0.00000000e+00  -8.19109451e-05  -3.36206745e-04\n",
      "   7.17528522e-03   2.42539147e-04   0.00000000e+00   0.00000000e+00]\n",
      "0.01\n",
      "146.668805 Training Error, 141.064511 Valid error\n",
      "[  0.00000000e+00  -0.00000000e+00  -0.00000000e+00  -0.00000000e+00\n",
      "   0.00000000e+00   0.00000000e+00  -0.00000000e+00   0.00000000e+00\n",
      "   1.76247388e-04  -2.27103966e-04  -1.81799523e-04  -6.05094704e-04\n",
      "  -3.83612243e-06  -7.37739849e-05   0.00000000e+00  -1.82575448e-04\n",
      "  -0.00000000e+00   1.87658404e-04   1.06505309e-04  -0.00000000e+00\n",
      "   0.00000000e+00   0.00000000e+00   1.38302070e-03   2.79226612e-04\n",
      "   1.20773142e-04   0.00000000e+00  -1.68834126e-03   5.57837159e-04\n",
      "   6.85301372e-04   0.00000000e+00  -4.08754459e-05  -1.88545700e-04\n",
      "   0.00000000e+00   8.38129716e-05   0.00000000e+00   0.00000000e+00]\n",
      "0.1\n",
      "141.570825 Training Error, 140.231235 Valid error\n",
      "[  0.00000000e+00  -0.00000000e+00  -0.00000000e+00   0.00000000e+00\n",
      "   0.00000000e+00   0.00000000e+00  -0.00000000e+00   0.00000000e+00\n",
      "   1.52045060e-04  -1.84398361e-04   0.00000000e+00  -0.00000000e+00\n",
      "  -9.61903421e-05  -6.99255468e-05   0.00000000e+00  -9.93158499e-05\n",
      "   0.00000000e+00   0.00000000e+00  -0.00000000e+00  -0.00000000e+00\n",
      "   0.00000000e+00   0.00000000e+00   0.00000000e+00   2.85946064e-04\n",
      "   0.00000000e+00   0.00000000e+00  -0.00000000e+00   4.84327184e-04\n",
      "   0.00000000e+00   0.00000000e+00  -1.45636375e-05  -0.00000000e+00\n",
      "   0.00000000e+00  -0.00000000e+00   0.00000000e+00   0.00000000e+00]\n",
      "1\n",
      "125.704659 Training Error, 126.691362 Valid error\n",
      "[  0.00000000e+00  -0.00000000e+00  -0.00000000e+00   0.00000000e+00\n",
      "   0.00000000e+00   0.00000000e+00   0.00000000e+00   0.00000000e+00\n",
      "  -0.00000000e+00  -6.84036743e-05   0.00000000e+00   0.00000000e+00\n",
      "  -6.79597239e-05  -0.00000000e+00  -0.00000000e+00  -0.00000000e+00\n",
      "   0.00000000e+00   0.00000000e+00   0.00000000e+00  -0.00000000e+00\n",
      "  -0.00000000e+00   0.00000000e+00   0.00000000e+00   7.06385842e-07\n",
      "   0.00000000e+00   0.00000000e+00   0.00000000e+00   0.00000000e+00\n",
      "   0.00000000e+00   0.00000000e+00   3.26927882e-05   0.00000000e+00\n",
      "   0.00000000e+00   0.00000000e+00   0.00000000e+00   0.00000000e+00]\n",
      "10.0\n",
      "107.276117 Training Error, 109.064285 Valid error\n",
      "[ 0. -0. -0.  0.  0.  0.  0.  0. -0. -0. -0. -0. -0. -0. -0. -0.  0.  0.\n",
      "  0.  0. -0.  0.  0.  0.  0.  0.  0.  0.  0.  0.  0.  0.  0.  0.  0.  0.]\n"
     ]
    }
   ],
   "source": [
    "alpha = [1e-4, 1e-3, 1e-2, 1e-1, 1, 1e1]\n",
    "for alpha in alpha:\n",
    "    lasso = Lasso(alpha=alpha, fit_intercept=True, random_state=77)\n",
    "    m3 = make_pipeline(PolynomialFeatures(2), lasso)\n",
    "    print(alpha)\n",
    "    cross_validate_errors(modeldata, modeltarget, m3)\n",
    "    modelcoef = m3.fit(modeldata,modeltarget)\n",
    "    print(modelcoef.steps[1][1].coef_)"
   ]
  },
  {
   "cell_type": "code",
   "execution_count": 697,
   "metadata": {},
   "outputs": [
    {
     "name": "stdout",
     "output_type": "stream",
     "text": [
      "26.406669 Training Error, 24.33735 Valid error\n"
     ]
    },
    {
     "data": {
      "text/plain": [
       "array([  4.64048728e-03,   3.49076131e-02,   5.01541593e-02,\n",
       "         1.45660416e-02,   5.13164521e-03,   6.89372359e-02,\n",
       "         3.47027258e-02,   2.19531142e-03,   2.72482531e-05,\n",
       "        -1.79819571e-03,   2.33185476e-03,  -1.95373699e-03,\n",
       "         5.06745059e-04,  -2.06910406e-03,   1.57470558e-02,\n",
       "         1.79342842e-03,  -1.13311420e-02,   1.10567644e-03,\n",
       "        -5.71796597e-03,   6.90882953e-03,   2.17497858e-02,\n",
       "        -9.68050108e-03,   4.34672696e-03,   9.23005353e-03,\n",
       "         1.39341367e-03,   6.20795627e-03,  -8.28615369e-03,\n",
       "         1.90404300e-03,   1.32657052e-03,   2.34820467e-03,\n",
       "        -5.80069406e-04,  -6.62825912e-05,   2.99255322e-02,\n",
       "        -5.02848411e-03,   1.48704335e-02,   1.04009337e-03])"
      ]
     },
     "execution_count": 697,
     "metadata": {},
     "output_type": "execute_result"
    }
   ],
   "source": [
    "h2 = make_pipeline(PolynomialFeatures(2), HuberRegressor())\n",
    "cross_validate_errors(modeldata, modeltarget, h2)\n",
    "h2.fit(modeldata, modeltarget).steps[1][1].coef_"
   ]
  },
  {
   "cell_type": "markdown",
   "metadata": {},
   "source": [
    "My Model Is Useless"
   ]
  },
  {
   "cell_type": "markdown",
   "metadata": {},
   "source": [
    "## 3.2 Removing Outliers by Draft Nbr\n",
    "\n",
    "Because of outliers on each draft position, there is no actual from draft number to carreer avgVORP\n",
    "\n",
    "We still might be able to get some useful information by removing outliers by draft number, so there is a cleaner representation of each draft position."
   ]
  },
  {
   "cell_type": "code",
   "execution_count": 555,
   "metadata": {},
   "outputs": [
    {
     "data": {
      "text/html": [
       "<div>\n",
       "<style>\n",
       "    .dataframe thead tr:only-child th {\n",
       "        text-align: right;\n",
       "    }\n",
       "\n",
       "    .dataframe thead th {\n",
       "        text-align: left;\n",
       "    }\n",
       "\n",
       "    .dataframe tbody tr th {\n",
       "        vertical-align: top;\n",
       "    }\n",
       "</style>\n",
       "<table border=\"1\" class=\"dataframe\">\n",
       "  <thead>\n",
       "    <tr style=\"text-align: right;\">\n",
       "      <th></th>\n",
       "      <th>Q1</th>\n",
       "      <th>Q3</th>\n",
       "      <th>IQR</th>\n",
       "      <th>UB</th>\n",
       "      <th>LB</th>\n",
       "    </tr>\n",
       "    <tr>\n",
       "      <th>draftnbr</th>\n",
       "      <th></th>\n",
       "      <th></th>\n",
       "      <th></th>\n",
       "      <th></th>\n",
       "      <th></th>\n",
       "    </tr>\n",
       "  </thead>\n",
       "  <tbody>\n",
       "    <tr>\n",
       "      <th>1</th>\n",
       "      <td>2.400921</td>\n",
       "      <td>2.556258</td>\n",
       "      <td>0.155337</td>\n",
       "      <td>2.564025</td>\n",
       "      <td>2.393154</td>\n",
       "    </tr>\n",
       "    <tr>\n",
       "      <th>2</th>\n",
       "      <td>2.318890</td>\n",
       "      <td>2.446786</td>\n",
       "      <td>0.127897</td>\n",
       "      <td>2.453181</td>\n",
       "      <td>2.312495</td>\n",
       "    </tr>\n",
       "    <tr>\n",
       "      <th>3</th>\n",
       "      <td>2.349415</td>\n",
       "      <td>2.500327</td>\n",
       "      <td>0.150912</td>\n",
       "      <td>2.507872</td>\n",
       "      <td>2.341869</td>\n",
       "    </tr>\n",
       "    <tr>\n",
       "      <th>4</th>\n",
       "      <td>2.324836</td>\n",
       "      <td>2.466561</td>\n",
       "      <td>0.141726</td>\n",
       "      <td>2.473648</td>\n",
       "      <td>2.317749</td>\n",
       "    </tr>\n",
       "    <tr>\n",
       "      <th>5</th>\n",
       "      <td>2.332387</td>\n",
       "      <td>2.494001</td>\n",
       "      <td>0.161614</td>\n",
       "      <td>2.502082</td>\n",
       "      <td>2.324306</td>\n",
       "    </tr>\n",
       "    <tr>\n",
       "      <th>6</th>\n",
       "      <td>2.277254</td>\n",
       "      <td>2.402657</td>\n",
       "      <td>0.125402</td>\n",
       "      <td>2.408927</td>\n",
       "      <td>2.270984</td>\n",
       "    </tr>\n",
       "    <tr>\n",
       "      <th>7</th>\n",
       "      <td>2.320308</td>\n",
       "      <td>2.399495</td>\n",
       "      <td>0.079188</td>\n",
       "      <td>2.403455</td>\n",
       "      <td>2.316348</td>\n",
       "    </tr>\n",
       "    <tr>\n",
       "      <th>8</th>\n",
       "      <td>2.305073</td>\n",
       "      <td>2.378671</td>\n",
       "      <td>0.073597</td>\n",
       "      <td>2.382350</td>\n",
       "      <td>2.301393</td>\n",
       "    </tr>\n",
       "    <tr>\n",
       "      <th>9</th>\n",
       "      <td>2.292088</td>\n",
       "      <td>2.471675</td>\n",
       "      <td>0.179587</td>\n",
       "      <td>2.480655</td>\n",
       "      <td>2.283109</td>\n",
       "    </tr>\n",
       "    <tr>\n",
       "      <th>10</th>\n",
       "      <td>2.289361</td>\n",
       "      <td>2.384969</td>\n",
       "      <td>0.095609</td>\n",
       "      <td>2.389750</td>\n",
       "      <td>2.284580</td>\n",
       "    </tr>\n",
       "    <tr>\n",
       "      <th>11</th>\n",
       "      <td>2.303585</td>\n",
       "      <td>2.385086</td>\n",
       "      <td>0.081502</td>\n",
       "      <td>2.389161</td>\n",
       "      <td>2.299510</td>\n",
       "    </tr>\n",
       "    <tr>\n",
       "      <th>12</th>\n",
       "      <td>2.288175</td>\n",
       "      <td>2.360673</td>\n",
       "      <td>0.072497</td>\n",
       "      <td>2.364297</td>\n",
       "      <td>2.284551</td>\n",
       "    </tr>\n",
       "    <tr>\n",
       "      <th>13</th>\n",
       "      <td>2.285566</td>\n",
       "      <td>2.370736</td>\n",
       "      <td>0.085169</td>\n",
       "      <td>2.374994</td>\n",
       "      <td>2.281308</td>\n",
       "    </tr>\n",
       "    <tr>\n",
       "      <th>14</th>\n",
       "      <td>2.283907</td>\n",
       "      <td>2.343542</td>\n",
       "      <td>0.059636</td>\n",
       "      <td>2.346524</td>\n",
       "      <td>2.280925</td>\n",
       "    </tr>\n",
       "    <tr>\n",
       "      <th>15</th>\n",
       "      <td>2.283337</td>\n",
       "      <td>2.350740</td>\n",
       "      <td>0.067402</td>\n",
       "      <td>2.354110</td>\n",
       "      <td>2.279967</td>\n",
       "    </tr>\n",
       "    <tr>\n",
       "      <th>16</th>\n",
       "      <td>2.280811</td>\n",
       "      <td>2.331573</td>\n",
       "      <td>0.050761</td>\n",
       "      <td>2.334111</td>\n",
       "      <td>2.278273</td>\n",
       "    </tr>\n",
       "    <tr>\n",
       "      <th>17</th>\n",
       "      <td>2.282382</td>\n",
       "      <td>2.382611</td>\n",
       "      <td>0.100229</td>\n",
       "      <td>2.387623</td>\n",
       "      <td>2.277371</td>\n",
       "    </tr>\n",
       "    <tr>\n",
       "      <th>18</th>\n",
       "      <td>2.296734</td>\n",
       "      <td>2.391414</td>\n",
       "      <td>0.094680</td>\n",
       "      <td>2.396148</td>\n",
       "      <td>2.292000</td>\n",
       "    </tr>\n",
       "    <tr>\n",
       "      <th>19</th>\n",
       "      <td>2.267994</td>\n",
       "      <td>2.326834</td>\n",
       "      <td>0.058841</td>\n",
       "      <td>2.329776</td>\n",
       "      <td>2.265052</td>\n",
       "    </tr>\n",
       "    <tr>\n",
       "      <th>20</th>\n",
       "      <td>2.288930</td>\n",
       "      <td>2.341271</td>\n",
       "      <td>0.052341</td>\n",
       "      <td>2.343888</td>\n",
       "      <td>2.286313</td>\n",
       "    </tr>\n",
       "    <tr>\n",
       "      <th>21</th>\n",
       "      <td>2.287109</td>\n",
       "      <td>2.384662</td>\n",
       "      <td>0.097554</td>\n",
       "      <td>2.389540</td>\n",
       "      <td>2.282231</td>\n",
       "    </tr>\n",
       "    <tr>\n",
       "      <th>22</th>\n",
       "      <td>2.281252</td>\n",
       "      <td>2.347266</td>\n",
       "      <td>0.066014</td>\n",
       "      <td>2.350566</td>\n",
       "      <td>2.277951</td>\n",
       "    </tr>\n",
       "    <tr>\n",
       "      <th>23</th>\n",
       "      <td>2.282382</td>\n",
       "      <td>2.356983</td>\n",
       "      <td>0.074600</td>\n",
       "      <td>2.360713</td>\n",
       "      <td>2.278652</td>\n",
       "    </tr>\n",
       "    <tr>\n",
       "      <th>24</th>\n",
       "      <td>2.282382</td>\n",
       "      <td>2.411784</td>\n",
       "      <td>0.129402</td>\n",
       "      <td>2.418254</td>\n",
       "      <td>2.275912</td>\n",
       "    </tr>\n",
       "    <tr>\n",
       "      <th>25</th>\n",
       "      <td>2.278914</td>\n",
       "      <td>2.312418</td>\n",
       "      <td>0.033504</td>\n",
       "      <td>2.314093</td>\n",
       "      <td>2.277239</td>\n",
       "    </tr>\n",
       "    <tr>\n",
       "      <th>26</th>\n",
       "      <td>2.288193</td>\n",
       "      <td>2.348231</td>\n",
       "      <td>0.060037</td>\n",
       "      <td>2.351233</td>\n",
       "      <td>2.285191</td>\n",
       "    </tr>\n",
       "    <tr>\n",
       "      <th>27</th>\n",
       "      <td>2.282382</td>\n",
       "      <td>2.316153</td>\n",
       "      <td>0.033771</td>\n",
       "      <td>2.317842</td>\n",
       "      <td>2.280694</td>\n",
       "    </tr>\n",
       "    <tr>\n",
       "      <th>28</th>\n",
       "      <td>2.277267</td>\n",
       "      <td>2.319538</td>\n",
       "      <td>0.042270</td>\n",
       "      <td>2.321651</td>\n",
       "      <td>2.275154</td>\n",
       "    </tr>\n",
       "    <tr>\n",
       "      <th>29</th>\n",
       "      <td>2.288232</td>\n",
       "      <td>2.330051</td>\n",
       "      <td>0.041819</td>\n",
       "      <td>2.332142</td>\n",
       "      <td>2.286142</td>\n",
       "    </tr>\n",
       "    <tr>\n",
       "      <th>30</th>\n",
       "      <td>2.276718</td>\n",
       "      <td>2.302085</td>\n",
       "      <td>0.025367</td>\n",
       "      <td>2.303353</td>\n",
       "      <td>2.275449</td>\n",
       "    </tr>\n",
       "  </tbody>\n",
       "</table>\n",
       "</div>"
      ],
      "text/plain": [
       "                Q1        Q3       IQR        UB        LB\n",
       "draftnbr                                                  \n",
       "1         2.400921  2.556258  0.155337  2.564025  2.393154\n",
       "2         2.318890  2.446786  0.127897  2.453181  2.312495\n",
       "3         2.349415  2.500327  0.150912  2.507872  2.341869\n",
       "4         2.324836  2.466561  0.141726  2.473648  2.317749\n",
       "5         2.332387  2.494001  0.161614  2.502082  2.324306\n",
       "6         2.277254  2.402657  0.125402  2.408927  2.270984\n",
       "7         2.320308  2.399495  0.079188  2.403455  2.316348\n",
       "8         2.305073  2.378671  0.073597  2.382350  2.301393\n",
       "9         2.292088  2.471675  0.179587  2.480655  2.283109\n",
       "10        2.289361  2.384969  0.095609  2.389750  2.284580\n",
       "11        2.303585  2.385086  0.081502  2.389161  2.299510\n",
       "12        2.288175  2.360673  0.072497  2.364297  2.284551\n",
       "13        2.285566  2.370736  0.085169  2.374994  2.281308\n",
       "14        2.283907  2.343542  0.059636  2.346524  2.280925\n",
       "15        2.283337  2.350740  0.067402  2.354110  2.279967\n",
       "16        2.280811  2.331573  0.050761  2.334111  2.278273\n",
       "17        2.282382  2.382611  0.100229  2.387623  2.277371\n",
       "18        2.296734  2.391414  0.094680  2.396148  2.292000\n",
       "19        2.267994  2.326834  0.058841  2.329776  2.265052\n",
       "20        2.288930  2.341271  0.052341  2.343888  2.286313\n",
       "21        2.287109  2.384662  0.097554  2.389540  2.282231\n",
       "22        2.281252  2.347266  0.066014  2.350566  2.277951\n",
       "23        2.282382  2.356983  0.074600  2.360713  2.278652\n",
       "24        2.282382  2.411784  0.129402  2.418254  2.275912\n",
       "25        2.278914  2.312418  0.033504  2.314093  2.277239\n",
       "26        2.288193  2.348231  0.060037  2.351233  2.285191\n",
       "27        2.282382  2.316153  0.033771  2.317842  2.280694\n",
       "28        2.277267  2.319538  0.042270  2.321651  2.275154\n",
       "29        2.288232  2.330051  0.041819  2.332142  2.286142\n",
       "30        2.276718  2.302085  0.025367  2.303353  2.275449"
      ]
     },
     "execution_count": 555,
     "metadata": {},
     "output_type": "execute_result"
    }
   ],
   "source": [
    "medianvorpbypositionq1 = dataraw.groupby(['draftnbr'])[['logavgVORP']].quantile(q=0.25)\n",
    "medianvorpbypositionq2 = dataraw.groupby(['draftnbr'])[['logavgVORP']].quantile(q=0.75)\n",
    "iqrbydraft = pd.merge(medianvorpbypositionq1,medianvorpbypositionq2, how ='inner',left_index=True,right_index=True)\n",
    "iqrbydraft = iqrbydraft.rename(columns={'logavgVORP_x': 'Q1','logavgVORP_y': 'Q3'})\n",
    "iqrbydraft['IQR'] = iqrbydraft['Q3'] - iqrbydraft['Q1']\n",
    "iqrbydraft['UB'] = (iqrbydraft['Q3'] + (.05 * iqrbydraft['IQR']))\n",
    "iqrbydraft['LB'] = (iqrbydraft['Q1'] - (.05 * iqrbydraft['IQR']))\n",
    "iqrbydraft"
   ]
  },
  {
   "cell_type": "code",
   "execution_count": 543,
   "metadata": {},
   "outputs": [
    {
     "name": "stdout",
     "output_type": "stream",
     "text": [
      "2.134338342854445 2.54141745706349\n"
     ]
    }
   ],
   "source": [
    "Q1 = dataraw.logavgVORP.quantile(q=0.25)\n",
    "Q3 = dataraw.logavgVORP.quantile(q=0.75)\n",
    "iqr = Q3 - Q1\n",
    "print(str(Q1-(1.5*iqr)) + ' ' + str(Q3+(1.5*iqr)))"
   ]
  },
  {
   "cell_type": "code",
   "execution_count": 556,
   "metadata": {},
   "outputs": [
    {
     "data": {
      "text/html": [
       "<div>\n",
       "<style>\n",
       "    .dataframe thead tr:only-child th {\n",
       "        text-align: right;\n",
       "    }\n",
       "\n",
       "    .dataframe thead th {\n",
       "        text-align: left;\n",
       "    }\n",
       "\n",
       "    .dataframe tbody tr th {\n",
       "        vertical-align: top;\n",
       "    }\n",
       "</style>\n",
       "<table border=\"1\" class=\"dataframe\">\n",
       "  <thead>\n",
       "    <tr style=\"text-align: right;\">\n",
       "      <th></th>\n",
       "      <th>draftnbr</th>\n",
       "      <th>Age</th>\n",
       "      <th>height</th>\n",
       "      <th>FG%</th>\n",
       "      <th>3P%</th>\n",
       "      <th>avgPTS</th>\n",
       "      <th>avgMP</th>\n",
       "      <th>avgTRB</th>\n",
       "      <th>avgAST</th>\n",
       "      <th>avgVORP</th>\n",
       "      <th>logavgVORP</th>\n",
       "      <th>log10avgVORP</th>\n",
       "      <th>UB</th>\n",
       "      <th>LB</th>\n",
       "      <th>outlier</th>\n",
       "    </tr>\n",
       "  </thead>\n",
       "  <tbody>\n",
       "    <tr>\n",
       "      <th>0</th>\n",
       "      <td>1</td>\n",
       "      <td>19.0</td>\n",
       "      <td>6.833333</td>\n",
       "      <td>0.623</td>\n",
       "      <td>0.150</td>\n",
       "      <td>14.2</td>\n",
       "      <td>32.000000</td>\n",
       "      <td>10.4</td>\n",
       "      <td>1.3</td>\n",
       "      <td>3.400000</td>\n",
       "      <td>2.595255</td>\n",
       "      <td>1.127105</td>\n",
       "      <td>2.564025</td>\n",
       "      <td>2.393154</td>\n",
       "      <td>True</td>\n",
       "    </tr>\n",
       "    <tr>\n",
       "      <th>30</th>\n",
       "      <td>1</td>\n",
       "      <td>19.0</td>\n",
       "      <td>6.250000</td>\n",
       "      <td>0.529</td>\n",
       "      <td>0.462</td>\n",
       "      <td>17.5</td>\n",
       "      <td>27.500000</td>\n",
       "      <td>3.4</td>\n",
       "      <td>4.3</td>\n",
       "      <td>2.757143</td>\n",
       "      <td>2.546091</td>\n",
       "      <td>1.105753</td>\n",
       "      <td>2.564025</td>\n",
       "      <td>2.393154</td>\n",
       "      <td>False</td>\n",
       "    </tr>\n",
       "    <tr>\n",
       "      <th>59</th>\n",
       "      <td>1</td>\n",
       "      <td>20.0</td>\n",
       "      <td>6.333333</td>\n",
       "      <td>0.461</td>\n",
       "      <td>0.325</td>\n",
       "      <td>16.6</td>\n",
       "      <td>34.800000</td>\n",
       "      <td>4.3</td>\n",
       "      <td>6.5</td>\n",
       "      <td>2.675000</td>\n",
       "      <td>2.539632</td>\n",
       "      <td>1.102948</td>\n",
       "      <td>2.564025</td>\n",
       "      <td>2.393154</td>\n",
       "      <td>False</td>\n",
       "    </tr>\n",
       "    <tr>\n",
       "      <th>89</th>\n",
       "      <td>1</td>\n",
       "      <td>21.0</td>\n",
       "      <td>6.833333</td>\n",
       "      <td>0.618</td>\n",
       "      <td>0.300</td>\n",
       "      <td>18.8</td>\n",
       "      <td>29.975883</td>\n",
       "      <td>11.8</td>\n",
       "      <td>2.1</td>\n",
       "      <td>3.375000</td>\n",
       "      <td>2.593387</td>\n",
       "      <td>1.126294</td>\n",
       "      <td>2.564025</td>\n",
       "      <td>2.393154</td>\n",
       "      <td>True</td>\n",
       "    </tr>\n",
       "    <tr>\n",
       "      <th>117</th>\n",
       "      <td>1</td>\n",
       "      <td>20.0</td>\n",
       "      <td>6.250000</td>\n",
       "      <td>0.477</td>\n",
       "      <td>0.337</td>\n",
       "      <td>14.9</td>\n",
       "      <td>29.200000</td>\n",
       "      <td>4.5</td>\n",
       "      <td>4.7</td>\n",
       "      <td>1.155556</td>\n",
       "      <td>2.411938</td>\n",
       "      <td>1.047491</td>\n",
       "      <td>2.564025</td>\n",
       "      <td>2.393154</td>\n",
       "      <td>False</td>\n",
       "    </tr>\n",
       "  </tbody>\n",
       "</table>\n",
       "</div>"
      ],
      "text/plain": [
       "     draftnbr   Age    height    FG%    3P%  avgPTS      avgMP  avgTRB  \\\n",
       "0           1  19.0  6.833333  0.623  0.150    14.2  32.000000    10.4   \n",
       "30          1  19.0  6.250000  0.529  0.462    17.5  27.500000     3.4   \n",
       "59          1  20.0  6.333333  0.461  0.325    16.6  34.800000     4.3   \n",
       "89          1  21.0  6.833333  0.618  0.300    18.8  29.975883    11.8   \n",
       "117         1  20.0  6.250000  0.477  0.337    14.9  29.200000     4.5   \n",
       "\n",
       "     avgAST   avgVORP  logavgVORP  log10avgVORP        UB        LB  outlier  \n",
       "0       1.3  3.400000    2.595255      1.127105  2.564025  2.393154     True  \n",
       "30      4.3  2.757143    2.546091      1.105753  2.564025  2.393154    False  \n",
       "59      6.5  2.675000    2.539632      1.102948  2.564025  2.393154    False  \n",
       "89      2.1  3.375000    2.593387      1.126294  2.564025  2.393154     True  \n",
       "117     4.7  1.155556    2.411938      1.047491  2.564025  2.393154    False  "
      ]
     },
     "execution_count": 556,
     "metadata": {},
     "output_type": "execute_result"
    }
   ],
   "source": [
    "dataiqr = pd.merge(dataraw,iqrbydraft[['UB','LB']],how ='inner',left_on='draftnbr',right_index=True)\n",
    "conditions = [dataiqr['logavgVORP'] > dataiqr['UB'], dataiqr['logavgVORP']< dataiqr['LB']]\n",
    "results = [True,True]\n",
    "dataiqr['outlier'] = np.select(conditions,results,default=False)\n",
    "dataiqr.head()"
   ]
  },
  {
   "cell_type": "code",
   "execution_count": 557,
   "metadata": {},
   "outputs": [],
   "source": [
    "normalplayers = dataiqr[dataiqr['outlier']==False]\n",
    "allstars = dataiqr[dataiqr['outlier']==True]"
   ]
  },
  {
   "cell_type": "code",
   "execution_count": 558,
   "metadata": {},
   "outputs": [
    {
     "data": {
      "text/plain": [
       "(443, 15)"
      ]
     },
     "execution_count": 558,
     "metadata": {},
     "output_type": "execute_result"
    }
   ],
   "source": [
    "allstars.shape"
   ]
  },
  {
   "cell_type": "code",
   "execution_count": 647,
   "metadata": {},
   "outputs": [
    {
     "data": {
      "image/png": "[encoded data removed]",
      "text/plain": [
       "<matplotlib.figure.Figure at 0x7f223c944860>"
      ]
     },
     "metadata": {},
     "output_type": "display_data"
    }
   ],
   "source": [
    "sns.regplot(x=\"draftnbr\", y=\"logavgVORP\", data=normalplayers);"
   ]
  },
  {
   "cell_type": "code",
   "execution_count": 699,
   "metadata": {},
   "outputs": [
    {
     "data": {
      "image/png": "[encoded data removed]",
      "text/plain": [
       "<matplotlib.figure.Figure at 0x7f223ccc4400>"
      ]
     },
     "metadata": {},
     "output_type": "display_data"
    }
   ],
   "source": [
    "sns.regplot(x=\"draftnbr\", y=\"logavgVORP\", data=allstars);"
   ]
  },
  {
   "cell_type": "code",
   "execution_count": 700,
   "metadata": {},
   "outputs": [],
   "source": [
    "modeldata2 = normalplayers[['draftnbr','Age','avgTRB','avgAST','avgMP','avgPTS','FG%']]\n",
    "modeltarget2 = normalplayers[['logavgVORP']]"
   ]
  },
  {
   "cell_type": "code",
   "execution_count": 701,
   "metadata": {},
   "outputs": [
    {
     "name": "stdout",
     "output_type": "stream",
     "text": [
      "1e-07\n",
      "776.946933 Training Error, 703.210059 Valid error\n",
      "[  0.00000000e+00  -1.49468085e-02  -3.92521073e-03  -2.46611789e-02\n",
      "   1.49452298e-02  -3.89667800e-03  -2.89636525e-03  -2.08252553e-01\n",
      "   2.11526350e-04   4.58565453e-04  -8.01959612e-05  -3.73305155e-04\n",
      "   5.41257369e-05  -9.27080873e-05  -8.01371825e-03  -2.37115622e-04\n",
      "   1.63125331e-04   9.52812112e-04  -2.95882515e-04   3.37305159e-04\n",
      "   6.58550956e-03  -3.76319683e-04  -2.13326382e-04   3.36668234e-04\n",
      "   9.35073760e-05   3.60141795e-02  -8.72006231e-04  -2.91948616e-04\n",
      "   4.71768417e-04  -3.03061544e-02   4.90910086e-05  -1.24317648e-04\n",
      "   1.40813716e-02   1.08780753e-04  -9.73086322e-03  -2.21451844e-01]\n",
      "1e-06\n",
      "776.979776 Training Error, 703.194653 Valid error\n",
      "[  0.00000000e+00  -1.49428095e-02  -1.84704307e-03  -2.36872714e-02\n",
      "   1.43248824e-02  -4.05503624e-03  -2.77192125e-03  -1.81418425e-01\n",
      "   2.11662894e-04   4.56851347e-04  -8.07592579e-05  -3.75864591e-04\n",
      "   5.43884667e-05  -9.39024530e-05  -7.92263361e-03  -2.39842585e-04\n",
      "   1.63864278e-04   9.53064125e-04  -2.95099908e-04   3.41446524e-04\n",
      "   2.62443806e-03  -3.68531101e-04  -2.21025345e-04   3.26547327e-04\n",
      "   9.85500121e-05   3.43973607e-02  -8.65164086e-04  -2.87496361e-04\n",
      "   4.63153857e-04  -2.90024121e-02   4.90165406e-05  -1.21494963e-04\n",
      "   1.43955447e-02   1.06644521e-04  -1.01799182e-02  -1.59784874e-01]\n",
      "1e-05\n",
      "776.179586 Training Error, 706.731014 Valid error\n",
      "[  0.00000000e+00  -1.49699556e-02   4.33921205e-03  -2.05386411e-02\n",
      "   1.21596927e-02  -2.77186581e-03  -2.98572723e-03  -0.00000000e+00\n",
      "   2.12201408e-04   4.55262493e-04  -8.44768052e-05  -3.81060997e-04\n",
      "   5.32668113e-05  -9.61314554e-05  -7.65061387e-03  -2.26738872e-04\n",
      "   1.65317105e-04   9.17939557e-04  -3.00759953e-04   3.48726592e-04\n",
      "  -1.02742201e-02  -3.33871737e-04  -2.47090754e-04   3.08630420e-04\n",
      "   9.76391687e-05   2.86624747e-02  -8.09339677e-04  -2.85171513e-04\n",
      "   4.36612131e-04  -2.27022115e-02   4.22761761e-05  -1.11383428e-04\n",
      "   1.29005808e-02   1.01675665e-04  -1.01658070e-02  -0.00000000e+00]\n",
      "0.0001\n",
      "771.370838 Training Error, 718.790752 Valid error\n",
      "[  0.00000000e+00  -1.48428446e-02   0.00000000e+00  -6.81499108e-03\n",
      "   0.00000000e+00   0.00000000e+00  -4.16684200e-03  -0.00000000e+00\n",
      "   2.13005833e-04   4.65651984e-04  -1.15133831e-04  -3.87566437e-04\n",
      "   4.48299800e-05  -8.44133266e-05  -7.90617678e-03  -2.37792749e-04\n",
      "   1.31025712e-05   8.49692746e-04  -1.71565676e-04   1.95044575e-04\n",
      "  -1.72050757e-03  -1.91199619e-04  -3.31045967e-04   2.85829620e-04\n",
      "  -2.54914108e-05   1.12539314e-02  -6.28495965e-04  -2.16456594e-04\n",
      "   4.18301711e-04  -0.00000000e+00   2.16349963e-05  -9.90454883e-05\n",
      "   4.06555625e-03   1.07809673e-04  -9.96881825e-04  -0.00000000e+00]\n",
      "0.001\n",
      "758.006972 Training Error, 729.045862 Valid error\n",
      "[  0.00000000e+00  -1.39792673e-02  -0.00000000e+00  -0.00000000e+00\n",
      "   0.00000000e+00   0.00000000e+00  -0.00000000e+00   0.00000000e+00\n",
      "   2.23815371e-04   2.65924883e-04  -1.89644431e-04  -2.82416114e-04\n",
      "   2.98769601e-05  -7.38677102e-05  -7.18965126e-04  -2.03043617e-04\n",
      "  -0.00000000e+00   5.64499637e-04  -1.39863276e-05   0.00000000e+00\n",
      "   0.00000000e+00  -1.03431172e-05  -0.00000000e+00   1.94544536e-04\n",
      "  -1.14293688e-05   0.00000000e+00  -3.19247630e-04  -1.41644738e-04\n",
      "   3.04477645e-04  -0.00000000e+00  -2.04330337e-06  -7.60472561e-05\n",
      "   3.90976142e-04   7.56254622e-05   0.00000000e+00   0.00000000e+00]\n",
      "0.01\n",
      "708.169987 Training Error, 711.549543 Valid error\n",
      "[  0.00000000e+00  -0.00000000e+00  -0.00000000e+00   0.00000000e+00\n",
      "   0.00000000e+00   0.00000000e+00   0.00000000e+00   0.00000000e+00\n",
      "   2.26687893e-04  -3.09361143e-04  -1.15457347e-04  -3.09403068e-05\n",
      "  -6.57566253e-05  -6.94615107e-05  -0.00000000e+00  -0.00000000e+00\n",
      "  -0.00000000e+00   2.56726528e-04   1.18599883e-05   0.00000000e+00\n",
      "  -0.00000000e+00   0.00000000e+00   0.00000000e+00   1.43983518e-04\n",
      "   0.00000000e+00   0.00000000e+00  -0.00000000e+00   0.00000000e+00\n",
      "   5.62774040e-05   0.00000000e+00   7.50304250e-07   0.00000000e+00\n",
      "   0.00000000e+00   1.78528716e-05   0.00000000e+00   0.00000000e+00]\n",
      "0.1\n",
      "687.032762 Training Error, 708.59385 Valid error\n",
      "[  0.00000000e+00  -0.00000000e+00  -0.00000000e+00   0.00000000e+00\n",
      "   0.00000000e+00   0.00000000e+00   0.00000000e+00   0.00000000e+00\n",
      "   1.84379335e-04  -2.48434904e-04  -0.00000000e+00   0.00000000e+00\n",
      "  -1.18652336e-04  -1.95154473e-05  -0.00000000e+00  -0.00000000e+00\n",
      "   0.00000000e+00   0.00000000e+00   0.00000000e+00   0.00000000e+00\n",
      "  -0.00000000e+00   0.00000000e+00   0.00000000e+00   5.38145498e-05\n",
      "   0.00000000e+00   0.00000000e+00   0.00000000e+00   9.36009744e-05\n",
      "   0.00000000e+00   0.00000000e+00   3.15524208e-05   0.00000000e+00\n",
      "   0.00000000e+00   0.00000000e+00   0.00000000e+00   0.00000000e+00]\n",
      "1\n",
      "560.233651 Training Error, 587.848283 Valid error\n",
      "[  0.00000000e+00  -0.00000000e+00  -0.00000000e+00   0.00000000e+00\n",
      "   0.00000000e+00   0.00000000e+00   0.00000000e+00  -0.00000000e+00\n",
      "  -0.00000000e+00  -0.00000000e+00  -0.00000000e+00   0.00000000e+00\n",
      "  -1.15218986e-04  -0.00000000e+00  -0.00000000e+00  -0.00000000e+00\n",
      "   0.00000000e+00   0.00000000e+00   0.00000000e+00   0.00000000e+00\n",
      "  -0.00000000e+00   0.00000000e+00   0.00000000e+00   0.00000000e+00\n",
      "   0.00000000e+00   0.00000000e+00   0.00000000e+00   0.00000000e+00\n",
      "   0.00000000e+00   0.00000000e+00   3.21079024e-05   0.00000000e+00\n",
      "   0.00000000e+00   0.00000000e+00   0.00000000e+00  -0.00000000e+00]\n",
      "10.0\n",
      "336.648289 Training Error, 344.718718 Valid error\n",
      "[ 0. -0. -0.  0.  0.  0.  0.  0. -0. -0. -0. -0. -0. -0. -0. -0.  0.  0.\n",
      "  0.  0. -0.  0.  0.  0.  0.  0.  0.  0.  0.  0.  0.  0.  0.  0.  0.  0.]\n"
     ]
    }
   ],
   "source": [
    "alpha = [1e-7,1e-6,1e-5,1e-4, 1e-3, 1e-2, 1e-1, 1, 1e1]\n",
    "for alpha in alpha:\n",
    "    lasso = Lasso(alpha=alpha, fit_intercept=True, random_state=77)\n",
    "    pipe = make_pipeline(PolynomialFeatures(2),lasso)\n",
    "    print(alpha)\n",
    "    cross_validate_errors(modeldata2, modeltarget2, pipe)\n",
    "    print(pipe.fit(modeldata2,modeltarget2).steps[1][1].coef_)"
   ]
  },
  {
   "cell_type": "code",
   "execution_count": 563,
   "metadata": {},
   "outputs": [
    {
     "name": "stdout",
     "output_type": "stream",
     "text": [
      "565.339164 Training Error, 598.388176 Valid error\n",
      "[[-0.00406374]]\n"
     ]
    }
   ],
   "source": [
    "reg = LinearRegression()\n",
    "cross_validate_errors(modeldata2, modeltarget2, reg)\n",
    "print(reg.fit(modeldata2,modeltarget2).coef_)"
   ]
  },
  {
   "cell_type": "markdown",
   "metadata": {},
   "source": [
    "## 3.4 Top 15 for Original and Outliers Removed\n",
    "\n",
    "Attempting to get noise from only top 15 draft places both with and without outliers identified with IQR above"
   ]
  },
  {
   "cell_type": "code",
   "execution_count": 676,
   "metadata": {},
   "outputs": [],
   "source": [
    "data15 = dataraw[dataraw['draftnbr']<16]\n",
    "modeldata15 = data15[['draftnbr']]\n",
    "modeltarget15 = data15[['logavgVORP']]"
   ]
  },
  {
   "cell_type": "code",
   "execution_count": 678,
   "metadata": {},
   "outputs": [
    {
     "data": {
      "image/png": "[encoded data removed]",
      "text/plain": [
       "<matplotlib.figure.Figure at 0x7f223cbf8e80>"
      ]
     },
     "metadata": {},
     "output_type": "display_data"
    }
   ],
   "source": [
    "sns.regplot(x=\"draftnbr\", y=\"logavgVORP\", data=data15);"
   ]
  },
  {
   "cell_type": "code",
   "execution_count": 681,
   "metadata": {},
   "outputs": [
    {
     "name": "stdout",
     "output_type": "stream",
     "text": [
      "1e-07\n",
      "92.29105 Training Error, 100.063392 Valid error\n",
      "[ 0.         -0.01978842  0.00066318]\n",
      "1e-06\n",
      "92.29105 Training Error, 100.063458 Valid error\n",
      "[ 0.         -0.01978746  0.00066313]\n",
      "1e-05\n",
      "92.291049 Training Error, 100.064122 Valid error\n",
      "[ 0.         -0.01977789  0.00066256]\n",
      "0.0001\n",
      "92.290953 Training Error, 100.070651 Valid error\n",
      "[ 0.         -0.01968214  0.00065689]\n",
      "0.001\n",
      "92.281295 Training Error, 100.125073 Valid error\n",
      "[ 0.         -0.01872489  0.00060018]\n",
      "0.01\n",
      "91.384042 Training Error, 99.684966 Valid error\n",
      "[  0.00000000e+00  -9.28030284e-03   4.06724526e-05]\n",
      "0.1\n",
      "89.0223 Training Error, 97.417776 Valid error\n",
      "[ 0.         -0.         -0.00048522]\n",
      "1\n",
      "87.471159 Training Error, 95.861347 Valid error\n",
      "[ 0.         -0.         -0.00030433]\n",
      "10.0\n",
      "79.989575 Training Error, 86.815154 Valid error\n",
      "[ 0. -0. -0.]\n"
     ]
    }
   ],
   "source": [
    "alpha = [1e-7,1e-6,1e-5,1e-4, 1e-3, 1e-2, 1e-1, 1, 1e1]\n",
    "for alpha in alpha:\n",
    "    lasso = Lasso(alpha=alpha, fit_intercept=True, random_state=77)\n",
    "    pipe = make_pipeline(PolynomialFeatures(2),lasso)\n",
    "    print(alpha)\n",
    "    cross_validate_errors(modeldata15, modeltarget15, pipe)\n",
    "    print(pipe.fit(modeldata15,modeltarget15).steps[1][1].coef_)"
   ]
  },
  {
   "cell_type": "code",
   "execution_count": 682,
   "metadata": {},
   "outputs": [],
   "source": [
    "data15adj = normalplayers[normalplayers['draftnbr']<16]\n",
    "modeldata15adj = data15adj[['draftnbr']]\n",
    "modeltarget15adj = data15adj[['logavgVORP']]"
   ]
  },
  {
   "cell_type": "code",
   "execution_count": 683,
   "metadata": {},
   "outputs": [
    {
     "data": {
      "image/png": "[encoded data removed]",
      "text/plain": [
       "<matplotlib.figure.Figure at 0x7f223cc2c5c0>"
      ]
     },
     "metadata": {},
     "output_type": "display_data"
    }
   ],
   "source": [
    "sns.regplot(x=\"draftnbr\", y=\"logavgVORP\", data=data15adj);"
   ]
  },
  {
   "cell_type": "code",
   "execution_count": 685,
   "metadata": {},
   "outputs": [
    {
     "name": "stdout",
     "output_type": "stream",
     "text": [
      "1e-07\n",
      "469.396421 Training Error, 505.768915 Valid error\n",
      "[-0.00920968]\n",
      "1e-06\n",
      "469.396421 Training Error, 505.769329 Valid error\n",
      "[-0.00920963]\n",
      "1e-05\n",
      "469.39642 Training Error, 505.773475 Valid error\n",
      "[-0.00920913]\n",
      "0.0001\n",
      "469.396299 Training Error, 505.814824 Valid error\n",
      "[-0.00920412]\n",
      "0.001\n",
      "469.384141 Training Error, 506.217377 Valid error\n",
      "[-0.00915401]\n",
      "0.01\n",
      "468.171501 Training Error, 509.110937 Valid error\n",
      "[-0.00865293]\n",
      "0.1\n",
      "372.064925 Training Error, 418.834142 Valid error\n",
      "[-0.00364211]\n",
      "1\n",
      "273.822243 Training Error, 298.568277 Valid error\n",
      "[-0.]\n",
      "10.0\n",
      "273.822243 Training Error, 298.568277 Valid error\n",
      "[-0.]\n"
     ]
    }
   ],
   "source": [
    "alpha = [1e-7,1e-6,1e-5,1e-4, 1e-3, 1e-2, 1e-1, 1, 1e1]\n",
    "for alpha in alpha:\n",
    "    lasso = Lasso(alpha=alpha, fit_intercept=True, random_state=77)\n",
    "    pipe = make_pipeline(lasso)\n",
    "    print(alpha)\n",
    "    cross_validate_errors(modeldata15adj, modeltarget15adj, pipe)\n",
    "    print(pipe.fit(modeldata15adj,modeltarget15adj).steps[0][1].coef_)"
   ]
  },
  {
   "cell_type": "code",
   "execution_count": null,
   "metadata": {
    "collapsed": true
   },
   "outputs": [],
   "source": []
  }
 ],
 "metadata": {
  "kernelspec": {
   "display_name": "Python 3",
   "language": "python",
   "name": "python3"
  },
  "language_info": {
   "codemirror_mode": {
    "name": "ipython",
    "version": 3
   },
   "file_extension": ".py",
   "mimetype": "text/x-python",
   "name": "python",
   "nbconvert_exporter": "python",
   "pygments_lexer": "ipython3",
   "version": "3.6.3"
  }
 },
 "nbformat": 4,
 "nbformat_minor": 2
}
